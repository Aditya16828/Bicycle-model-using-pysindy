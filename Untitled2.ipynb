{
  "cells": [
    {
      "cell_type": "code",
      "execution_count": 1,
      "metadata": {
        "id": "ucgEaLa69VEd"
      },
      "outputs": [],
      "source": [
        "import matplotlib.pyplot as plt\n",
        "import pysindy as ps\n",
        "import numpy as np"
      ]
    },
    {
      "attachments": {},
      "cell_type": "markdown",
      "metadata": {
        "id": "12TYJZzV9zJP"
      },
      "source": [
        "### Fit a parameterized logistic map\n",
        "The logistic map\n",
        "$$ x_{n+1} = r x_n(1-x_n)$$\n",
        "depends on one parameter $r$.  The behavior is chaotic for r>3.6"
      ]
    },
    {
      "cell_type": "code",
      "execution_count": 2,
      "metadata": {
        "id": "fP39sCjU9XgR"
      },
      "outputs": [],
      "source": [
        "num = 1000\n",
        "N = 1000\n",
        "N_drop = 500\n",
        "r0 = 3.5\n",
        "rs = r0 + np.arange(num) / num * (4 - r0)\n",
        "xss = []"
      ]
    },
    {
      "cell_type": "code",
      "execution_count": 3,
      "metadata": {
        "id": "75IRzJ1q9l1k"
      },
      "outputs": [],
      "source": [
        "for r in rs:\n",
        "    xs = []\n",
        "    x = 0.5\n",
        "    for n in range(N + N_drop):\n",
        "        if n >= N_drop:\n",
        "            xs = xs + [x]\n",
        "        x = r * x * (1 - x)\n",
        "    xss = xss + [xs]"
      ]
    },
    {
      "cell_type": "code",
      "execution_count": null,
      "metadata": {
        "id": "-fEL-Fq5TyUo"
      },
      "outputs": [],
      "source": [
        "range(N + N_drop)"
      ]
    },
    {
      "cell_type": "code",
      "execution_count": 4,
      "metadata": {
        "id": "dOJDVF2SWh1L"
      },
      "outputs": [],
      "source": [
        "N = 1000\n",
        "N_drop = 500\n",
        "r0 = [3.5, 3.0]\n",
        "vs=2+np.random.random(size=(2,N+N_drop))\n",
        "xss = []\n",
        "uss = []\n",
        "for i in range(len(vs)):\n",
        "    r = r0[i] + 1/vs[i]\n",
        "    xs = []\n",
        "    x = 0.5\n",
        "    for n in range(N + N_drop):\n",
        "        if n >= N_drop:\n",
        "            xs.append(x)\n",
        "        x = r[n] * x * (1 - x)\n",
        "    xss.append(np.array(xs))\n",
        "    uss.append(vs[i][N_drop:])"
      ]
    },
    {
      "cell_type": "code",
      "execution_count": null,
      "metadata": {
        "id": "5YkGVRre3r71"
      },
      "outputs": [],
      "source": [
        "feature_lib = ps.PolynomialLibrary(degree=4, include_bias=True)\n",
        "parameter_lib = ps.CustomLibrary(library_functions=[lambda x:1/x, lambda x:1/x, lambda x: x, lambda x: x], function_names=[lambda x:x+'^-1', lambda x:x+'^-1', lambda x: x, lambda x: x],include_bias=True)"
      ]
    },
    {
      "cell_type": "code",
      "execution_count": null,
      "metadata": {
        "id": "PLW5xqXBWkuh"
      },
      "outputs": [],
      "source": [
        "lib = ps.ParameterizedLibrary(\n",
        "    feature_library=feature_lib,\n",
        "    parameter_library=parameter_lib,\n",
        "    num_features=4,\n",
        "    num_parameters=2,\n",
        ")\n",
        "opt = ps.STLSQ(threshold=1e-1, normalize_columns=False)\n",
        "model = ps.SINDy(\n",
        "    feature_library=lib, optimizer=opt, feature_names=[\"x1\", \"x2\", \"v1\", \"v2\", \"u1\", \"u2\"], discrete_time=True\n",
        ")\n",
        "model.fit(np.stack(xss, -1), u=np.stack(uss, -1))\n",
        "# model.fit(xss_new, u=uss_new, multiple_trajectories=True)\n",
        "# model.fit(xss, u=uss, multiple_trajectories=True)\n",
        "model.print()"
      ]
    },
    {
      "cell_type": "code",
      "execution_count": null,
      "metadata": {
        "id": "nwZP0h_PIzap"
      },
      "outputs": [],
      "source": [
        "num = 1\n",
        "N = 1000\n",
        "N_drop = 500\n",
        "r0 = 3.5\n",
        "vs=2+np.random.random(size=(1,N+N_drop))\n",
        "xss = []\n",
        "uss=[]\n",
        "for v in vs:\n",
        "    r= r0 + 1/v\n",
        "    xs = []\n",
        "    x = 0.5\n",
        "    for n in range(N + N_drop):\n",
        "        if n >= N_drop:\n",
        "            xs = xs + [x]\n",
        "        x = r[n] * x * (1 - x)\n",
        "    xss = xss + [np.array(xs)]\n",
        "    uss=uss+[v[N_drop:]]\n",
        "\n",
        "feature_lib = ps.PolynomialLibrary(degree=3, include_bias=True)\n",
        "parameter_lib = ps.CustomLibrary(library_functions=[lambda x:1/x], function_names=[lambda x:x+'^-1'],include_bias=True)\n",
        "lib = ps.ParameterizedLibrary(\n",
        "    feature_library=feature_lib,\n",
        "    parameter_library=parameter_lib,\n",
        "    num_features=1,\n",
        "    num_parameters=1,\n",
        ")\n",
        "opt = ps.STLSQ(threshold=1e-1, normalize_columns=False)\n",
        "model = ps.SINDy(\n",
        "    feature_library=lib, optimizer=opt, feature_names=[\"x\", \"v\"], discrete_time=True\n",
        ")\n",
        "model.fit(xss, u=uss, multiple_trajectories=True)\n",
        "model.print()"
      ]
    },
    {
      "cell_type": "code",
      "execution_count": null,
      "metadata": {
        "id": "HNnR0kFxTSRk"
      },
      "outputs": [],
      "source": [
        "uss"
      ]
    },
    {
      "cell_type": "code",
      "execution_count": null,
      "metadata": {
        "id": "L4FR5bC-Vymc"
      },
      "outputs": [],
      "source": [
        "N = 1000\n",
        "N_drop = 500\n",
        "r0 = [3.5, 3.0]\n",
        "vs=2+np.random.random(size=(2,N+N_drop))\n",
        "xss = []\n",
        "uss = []\n",
        "for i in range(len(vs)):\n",
        "    r = r0[i] + 1/vs[i]\n",
        "    xs = []\n",
        "    x = 0.5\n",
        "    for n in range(N + N_drop):\n",
        "        if n >= N_drop:\n",
        "            xs.append(x)\n",
        "        x = r[n] * x * (1 - x)\n",
        "    xss.append(np.array(xs))\n",
        "    uss.append(vs[i][N_drop:])\n",
        "\n",
        "feature_lib = ps.PolynomialLibrary(degree=4, include_bias=True)\n",
        "parameter_lib = ps.CustomLibrary(library_functions=[lambda x:1/x, lambda x:1/x, lambda x: x, lambda x: x], function_names=[lambda x:x+'^-1', lambda x:x+'^-1', lambda x: x, lambda x: x],include_bias=True)\n",
        "lib = ps.ParameterizedLibrary(\n",
        "    feature_library=feature_lib,\n",
        "    parameter_library=parameter_lib,\n",
        "    num_features=4,\n",
        "    num_parameters=2,\n",
        ")\n",
        "opt = ps.STLSQ(threshold=1e-1, normalize_columns=False)\n",
        "model = ps.SINDy(\n",
        "    feature_library=lib, optimizer=opt, feature_names=[\"x1\", \"x2\", \"v1\", \"v2\", \"u1\", \"u2\"], discrete_time=True\n",
        ")\n",
        "model.fit(np.stack(xss, -1), u=np.stack(uss, -1))\n",
        "# model.fit(xss_new, u=uss_new, multiple_trajectories=True)\n",
        "# model.fit(xss, u=uss, multiple_trajectories=True)\n",
        "model.print()"
      ]
    },
    {
      "cell_type": "code",
      "execution_count": null,
      "metadata": {
        "id": "A7zKwZUJzm4P"
      },
      "outputs": [],
      "source": [
        "np.stack(xss, -1)"
      ]
    },
    {
      "attachments": {},
      "cell_type": "markdown",
      "metadata": {
        "id": "yQF58V3IN3dw"
      },
      "source": [
        "---"
      ]
    },
    {
      "cell_type": "code",
      "execution_count": null,
      "metadata": {
        "colab": {
          "base_uri": "https://localhost:8080/"
        },
        "id": "NgPeNPuXN2-5",
        "outputId": "86023b42-ec08-4d48-9d9c-48752fd72130"
      },
      "outputs": [
        {
          "name": "stdout",
          "output_type": "stream",
          "text": [
            "(x1)[k+1] = 4.320 1 x1[k] + -4.313 1 x1[k]^2 + -0.166 1 x1[k] v1[k] + -0.002 1 x1[k] v2[k] + -0.007 1 x1[k]^3 + 0.163 1 x1[k]^2 v1[k] + 0.002 1 x1[k]^2 v2[k] + 0.001 1 x1[k] v1[k] v2[k] + 0.002 1 x1[k]^3 v1[k] + -0.001 1 x1[k]^2 v1[k] v2[k]\n",
            "(x2)[k+1] = 0.772 1 1 + 1.622 1 x2[k]^3 + 0.109 1 x2[k]^2 v1[k] + -2.549 1 x2[k]^4 + -0.133 1 x2[k]^3 v1[k]\n"
          ]
        }
      ],
      "source": [
        "import matplotlib.pyplot as plt\n",
        "import pysindy as ps\n",
        "import numpy as np\n",
        "\n",
        "N = 1000\n",
        "N_drop = 500\n",
        "r0 = [3.5, 3.0]\n",
        "vs=2+np.random.random(size=(2,N+N_drop))\n",
        "xss = []\n",
        "uss = []\n",
        "for i in range(len(vs)):\n",
        "    r = r0[i] + 1/vs[i]\n",
        "    xs = []\n",
        "    x = 0.5\n",
        "    for n in range(N + N_drop):\n",
        "        if n >= N_drop:\n",
        "            xs.append(x)\n",
        "        x = r[n] * x * (1 - x)\n",
        "    xss.append(np.array(xs))\n",
        "    uss.append(vs[i][N_drop:])\n",
        "\n",
        "li = []\n",
        "for i in range(1000):\n",
        "  li.append()\n",
        "\n",
        "uss.append(np.array(li))\n",
        "\n",
        "li = []\n",
        "for i in range(1000):\n",
        "  li.append(np.random.uniform(-6987.1714830972005, 6514.658733236362))\n",
        "\n",
        "uss.append(np.array(li))\n",
        "\n",
        "feature_lib = ps.PolynomialLibrary(degree=3, include_bias=True)\n",
        "parameter_lib = ps.CustomLibrary(library_functions=[lambda x:1/x, lambda x:1/x, lambda x: x, lambda x: x], function_names=[lambda x:x+'^-1', lambda x:x+'^-1', lambda x: x, lambda x: x],include_bias=True)\n",
        "lib = ps.ParameterizedLibrary(\n",
        "    feature_library=feature_lib,\n",
        "    parameter_library=parameter_lib,\n",
        "    num_features=4,\n",
        "    num_parameters=2,\n",
        ")\n",
        "\n",
        "opt = ps.STLSQ(threshold=1e-1, normalize_columns=False)\n",
        "model = ps.SINDy(feature_library=lib, optimizer=opt, feature_names=[\"x1\", \"x2\", \"v1\", \"v2\", \"u1\", \"u2\"], discrete_time=True)\n",
        "\n",
        "model.fit(np.stack(xss, -1), u=np.stack(uss, -1))\n",
        "model.print()"
      ]
    },
    {
      "cell_type": "code",
      "execution_count": null,
      "metadata": {
        "colab": {
          "base_uri": "https://localhost:8080/"
        },
        "id": "qUtwirQoRIlj",
        "outputId": "754f403a-05d7-43b5-fa1e-d2b58ebee8b9"
      },
      "outputs": [
        {
          "data": {
            "text/plain": [
              "array([[ 2.50902272e+00,  2.51682227e+00,  3.95346801e+03,\n",
              "         6.07298106e+03],\n",
              "       [ 2.35883165e+00,  2.25063639e+00, -1.73697154e+03,\n",
              "        -5.21507573e+03],\n",
              "       [ 2.44212846e+00,  2.03439173e+00,  3.20243371e+03,\n",
              "         6.39547550e+03],\n",
              "       ...,\n",
              "       [ 2.69190311e+00,  2.33860215e+00,  5.46315324e+03,\n",
              "         5.64697078e+02],\n",
              "       [ 2.34476893e+00,  2.18694770e+00,  5.00210462e+03,\n",
              "        -4.36472185e+03],\n",
              "       [ 2.78663595e+00,  2.70632800e+00,  2.57139528e+03,\n",
              "         2.36813983e+03]])"
            ]
          },
          "execution_count": 11,
          "metadata": {},
          "output_type": "execute_result"
        }
      ],
      "source": [
        "np.stack(uss, -1)"
      ]
    }
  ],
  "metadata": {
    "colab": {
      "provenance": []
    },
    "kernelspec": {
      "display_name": "Python 3",
      "name": "python3"
    },
    "language_info": {
      "codemirror_mode": {
        "name": "ipython",
        "version": 3
      },
      "file_extension": ".py",
      "mimetype": "text/x-python",
      "name": "python",
      "nbconvert_exporter": "python",
      "pygments_lexer": "ipython3",
      "version": "3.10.9"
    }
  },
  "nbformat": 4,
  "nbformat_minor": 0
}
