{
 "cells": [
  {
   "cell_type": "code",
   "execution_count": 1,
   "metadata": {},
   "outputs": [],
   "source": [
    "import numpy as np\n",
    "import pandas as pd\n",
    "import matplotlib.pyplot as plt\n",
    "from scipy import signal\n",
    "import math"
   ]
  },
  {
   "attachments": {},
   "cell_type": "markdown",
   "metadata": {},
   "source": [
    "## Importing the drivingProfile"
   ]
  },
  {
   "cell_type": "code",
   "execution_count": 2,
   "metadata": {},
   "outputs": [],
   "source": [
    "drivingProfile = pd.read_csv('./parameter.csv')"
   ]
  },
  {
   "cell_type": "code",
   "execution_count": 3,
   "metadata": {},
   "outputs": [
    {
     "data": {
      "text/html": [
       "<div>\n",
       "<style scoped>\n",
       "    .dataframe tbody tr th:only-of-type {\n",
       "        vertical-align: middle;\n",
       "    }\n",
       "\n",
       "    .dataframe tbody tr th {\n",
       "        vertical-align: top;\n",
       "    }\n",
       "\n",
       "    .dataframe thead th {\n",
       "        text-align: right;\n",
       "    }\n",
       "</style>\n",
       "<table border=\"1\" class=\"dataframe\">\n",
       "  <thead>\n",
       "    <tr style=\"text-align: right;\">\n",
       "      <th></th>\n",
       "      <th>m</th>\n",
       "      <th>lf</th>\n",
       "      <th>lr</th>\n",
       "      <th>Cf</th>\n",
       "      <th>Cr</th>\n",
       "      <th>Iz</th>\n",
       "      <th>mu</th>\n",
       "      <th>steering_ratio</th>\n",
       "      <th>Sampling Period</th>\n",
       "    </tr>\n",
       "  </thead>\n",
       "  <tbody>\n",
       "    <tr>\n",
       "      <th>0</th>\n",
       "      <td>1331</td>\n",
       "      <td>0.84</td>\n",
       "      <td>1.63</td>\n",
       "      <td>90624</td>\n",
       "      <td>90624</td>\n",
       "      <td>1500</td>\n",
       "      <td>0.5</td>\n",
       "      <td>0.0625</td>\n",
       "      <td>0.04</td>\n",
       "    </tr>\n",
       "  </tbody>\n",
       "</table>\n",
       "</div>"
      ],
      "text/plain": [
       "      m    lf    lr     Cf     Cr    Iz   mu  steering_ratio  Sampling Period\n",
       "0  1331  0.84  1.63  90624  90624  1500  0.5          0.0625             0.04"
      ]
     },
     "execution_count": 3,
     "metadata": {},
     "output_type": "execute_result"
    }
   ],
   "source": [
    "drivingProfile"
   ]
  },
  {
   "cell_type": "code",
   "execution_count": 4,
   "metadata": {},
   "outputs": [],
   "source": [
    "m = drivingProfile['m'][0]\n",
    "lf = drivingProfile['lf'][0]\n",
    "lr = drivingProfile['lr'][0]\n",
    "Cf = drivingProfile['Cf'][0]\n",
    "Cr = drivingProfile['Cr'][0]\n",
    "Iz = drivingProfile['Iz'][0]\n",
    "steering_ratio = drivingProfile['steering_ratio'][0]\n",
    "Ts = drivingProfile['Sampling Period'][0]"
   ]
  },
  {
   "attachments": {},
   "cell_type": "markdown",
   "metadata": {},
   "source": [
    "## Importing inputs"
   ]
  },
  {
   "cell_type": "code",
   "execution_count": 5,
   "metadata": {},
   "outputs": [
    {
     "data": {
      "text/html": [
       "<div>\n",
       "<style scoped>\n",
       "    .dataframe tbody tr th:only-of-type {\n",
       "        vertical-align: middle;\n",
       "    }\n",
       "\n",
       "    .dataframe tbody tr th {\n",
       "        vertical-align: top;\n",
       "    }\n",
       "\n",
       "    .dataframe thead th {\n",
       "        text-align: right;\n",
       "    }\n",
       "</style>\n",
       "<table border=\"1\" class=\"dataframe\">\n",
       "  <thead>\n",
       "    <tr style=\"text-align: right;\">\n",
       "      <th></th>\n",
       "      <th>samplingTime</th>\n",
       "      <th>DRV_DeltaSteer</th>\n",
       "      <th>Veh_Vx</th>\n",
       "    </tr>\n",
       "  </thead>\n",
       "  <tbody>\n",
       "    <tr>\n",
       "      <th>0</th>\n",
       "      <td>0.000</td>\n",
       "      <td>0.0</td>\n",
       "      <td>30.000000</td>\n",
       "    </tr>\n",
       "    <tr>\n",
       "      <th>1</th>\n",
       "      <td>0.005</td>\n",
       "      <td>0.0</td>\n",
       "      <td>29.999664</td>\n",
       "    </tr>\n",
       "    <tr>\n",
       "      <th>2</th>\n",
       "      <td>0.010</td>\n",
       "      <td>0.0</td>\n",
       "      <td>29.998813</td>\n",
       "    </tr>\n",
       "    <tr>\n",
       "      <th>3</th>\n",
       "      <td>0.015</td>\n",
       "      <td>0.0</td>\n",
       "      <td>29.997596</td>\n",
       "    </tr>\n",
       "    <tr>\n",
       "      <th>4</th>\n",
       "      <td>0.020</td>\n",
       "      <td>0.0</td>\n",
       "      <td>29.996121</td>\n",
       "    </tr>\n",
       "  </tbody>\n",
       "</table>\n",
       "</div>"
      ],
      "text/plain": [
       "   samplingTime  DRV_DeltaSteer     Veh_Vx\n",
       "0         0.000             0.0  30.000000\n",
       "1         0.005             0.0  29.999664\n",
       "2         0.010             0.0  29.998813\n",
       "3         0.015             0.0  29.997596\n",
       "4         0.020             0.0  29.996121"
      ]
     },
     "execution_count": 5,
     "metadata": {},
     "output_type": "execute_result"
    }
   ],
   "source": [
    "inputs = pd.read_csv('./input2.csv')\n",
    "inputs.head()"
   ]
  },
  {
   "cell_type": "code",
   "execution_count": 6,
   "metadata": {},
   "outputs": [
    {
     "name": "stdout",
     "output_type": "stream",
     "text": [
      "[0.000e+00 5.000e-03 1.000e-02 ... 9.990e+00 9.995e+00 1.000e+01]\n",
      "2001\n",
      "[0. 0. 0. ... 0. 0. 0.]\n",
      "2001\n",
      "[30.         29.99966417 29.99881271 ... 22.40103788 22.39962281\n",
      " 22.39820783]\n",
      "2001\n"
     ]
    }
   ],
   "source": [
    "Time = inputs['samplingTime'].to_numpy()\n",
    "\n",
    "print(Time)\n",
    "print(len(Time))\n",
    "\n",
    "deltaSteer = inputs['DRV_DeltaSteer'].to_numpy()\n",
    "\n",
    "print(deltaSteer)\n",
    "print(len(deltaSteer))\n",
    "\n",
    "Vx = inputs['Veh_Vx'].to_numpy()\n",
    "\n",
    "print(Vx)\n",
    "print(len(Vx))"
   ]
  },
  {
   "cell_type": "code",
   "execution_count": 7,
   "metadata": {},
   "outputs": [
    {
     "data": {
      "text/plain": [
       "8"
      ]
     },
     "execution_count": 7,
     "metadata": {},
     "output_type": "execute_result"
    }
   ],
   "source": [
    "n = math.floor(Ts/(Time[1]-Time[0]))\n",
    "n"
   ]
  },
  {
   "cell_type": "code",
   "execution_count": 8,
   "metadata": {},
   "outputs": [],
   "source": [
    "time = [Time[i] for i in range(len(Time)) if i%n==0]\n",
    "steeringAngle = [deltaSteer[i] for i in range(len(deltaSteer)) if i%n==0]\n",
    "velocity = [Vx[i] for i in range(len(Vx)) if i%n==0]"
   ]
  },
  {
   "attachments": {},
   "cell_type": "markdown",
   "metadata": {},
   "source": [
    "## Function to calculate parameters"
   ]
  },
  {
   "cell_type": "code",
   "execution_count": 9,
   "metadata": {},
   "outputs": [],
   "source": [
    "def calculate_parameters(v_x):\n",
    "  A = np.array([[(-2*Cf-2*Cr)/(m*v_x), -1-((2*Cf*lf - 2*Cr*lr)/(m*v_x*v_x))], [((2*Cr*lr)-(2*Cf*lf))/Iz, (-2*Cf*lf*lf-2*Cr*lr*lr)/(Iz*v_x)]])\n",
    "  B = np.array([[(2*Cf)/(m*v_x), 0], [(2*Cf*lf)/Iz, 1/Iz]])\n",
    "  C = np.array([[0, 1], [(-2*Cf-2*Cr)/m, -(2*Cf*lf-2*Cr*lr)/(m*v_x)]])\n",
    "  D = np.array([[0, 0], [(2*Cf)/m, 0]])\n",
    "\n",
    "  return [A, B, C, D]"
   ]
  },
  {
   "attachments": {},
   "cell_type": "markdown",
   "metadata": {},
   "source": [
    "## Controller Gain K"
   ]
  },
  {
   "cell_type": "code",
   "execution_count": 10,
   "metadata": {},
   "outputs": [],
   "source": [
    "K = np.array([[1.8639, -0.0279],[-542794.8896, 32604.6225]])"
   ]
  },
  {
   "attachments": {},
   "cell_type": "markdown",
   "metadata": {},
   "source": [
    "## Observer Gain L"
   ]
  },
  {
   "cell_type": "code",
   "execution_count": 11,
   "metadata": {},
   "outputs": [],
   "source": [
    "L = np.array([[-0.000000000009229, -0.000000000131049],[0.000000000135782, 0.000000001407986]])"
   ]
  },
  {
   "attachments": {},
   "cell_type": "markdown",
   "metadata": {},
   "source": [
    "## Matrix P\n",
    "Positive definite P such that:  \n",
    "![](./Screenshot%202023-05-30%20104347.png)  \n",
    "`Amin, Amax` => Discrete-time closed loop matrices derived using the system equations fror v = vmin and v = vmax respectively."
   ]
  },
  {
   "cell_type": "code",
   "execution_count": 12,
   "metadata": {},
   "outputs": [
    {
     "data": {
      "text/plain": [
       "array([[2, 1],\n",
       "       [1, 1]])"
      ]
     },
     "execution_count": 12,
     "metadata": {},
     "output_type": "execute_result"
    }
   ],
   "source": [
    "P = np.array([[2, 1],[1,1]])\n",
    "P"
   ]
  },
  {
   "attachments": {},
   "cell_type": "markdown",
   "metadata": {},
   "source": [
    "## Evaluating the system"
   ]
  },
  {
   "cell_type": "code",
   "execution_count": 13,
   "metadata": {},
   "outputs": [],
   "source": [
    "# u = [np.transpose(np.array([[deltaSteer[0]*math.pi/180, 0]]))]\n",
    "u = [np.array([[0], [0]])]\n",
    "# x = [np.dot(np.linalg.inv(-K), u[0])]\n",
    "x = [np.array([[0], [0]])]\n",
    "# x_cap = [np.dot(np.linalg.inv(-K), u[0])]\n",
    "x_cap = [np.array([[0], [0]])]\n",
    "A, B, C, D = calculate_parameters(max(Vx))\n",
    "y = [np.dot(C,x[0])]\n",
    "y_cap = [np.dot(C,x_cap[0])]\n",
    "\n",
    "for i in range(1, len(velocity)):\n",
    "  A, B, C, D = calculate_parameters(velocity[i-1])\n",
    "\n",
    "  out = signal.StateSpace(A, B, C, D)\n",
    "  out = out.to_discrete(Ts)\n",
    "\n",
    "  r = y[i-1] - y_cap[i-1]\n",
    "\n",
    "  x.append(np.array(np.dot(out.A, x[i-1])+np.dot(out.B, u[i-1])))\n",
    "  x_cap.append(np.array(np.dot(out.A, x[i-1])+np.dot(out.B, u[i-1]))+np.dot(L,r))\n",
    "\n",
    "  y.append(np.dot(out.C, x[i-1])+np.dot(out.D, u[i-1]))\n",
    "  y_cap.append(np.dot(out.C, x_cap[i-1])+np.dot(out.D, u[i-1]))\n",
    "\n",
    "  utemp = np.dot(-K, x_cap[i]) + np.array([[(steeringAngle[i]*(math.pi/180)*steering_ratio)], [0]])\n",
    "  # utemp[0][0] += steeringAngle[i]*(math.pi/180)*steering_ratio\n",
    "  utemp[0][0] %= (2*math.pi)\n",
    "  u.append(utemp)"
   ]
  },
  {
   "cell_type": "code",
   "execution_count": 14,
   "metadata": {},
   "outputs": [
    {
     "data": {
      "text/plain": [
       "array([[0],\n",
       "       [0]])"
      ]
     },
     "execution_count": 14,
     "metadata": {},
     "output_type": "execute_result"
    }
   ],
   "source": [
    "np.array([[0], [0]])"
   ]
  },
  {
   "attachments": {},
   "cell_type": "markdown",
   "metadata": {},
   "source": [
    "## Extracting the values from the lists"
   ]
  },
  {
   "attachments": {},
   "cell_type": "markdown",
   "metadata": {},
   "source": [
    "### Extracting `yaw moment -> Mz` and `steering angle -> beta` from `u[]`"
   ]
  },
  {
   "cell_type": "code",
   "execution_count": 15,
   "metadata": {},
   "outputs": [
    {
     "name": "stdout",
     "output_type": "stream",
     "text": [
      "251 251\n",
      "[0, 0.0, 0.0, 0.0, 0.0, 0.0, 0.0, 0.0, 0.0, 0.0, 0.0, 0.0, 0.0, 0.0, 0.0, 0.0, 0.0, 0.0, 0.0, 0.0, 0.0, 0.0, 0.0, 0.0, 0.0, 0.0, 0.0, 0.0, 0.0, 0.0, 0.0, 0.0, 0.0, 0.0, 0.0, 0.0, 0.0, 0.0, 0.0, 0.0, 0.0, 0.0, 0.0, 0.0, 0.0, 0.0, 0.0, 0.0, 0.0, 0.0, 0.0, 0.0, 0.0, 0.0, 0.0, 0.0, 0.0, 0.0, 0.0, 0.0, 0.0, 0.0, 0.0, 0.0, 0.0, 0.0, 0.0, 0.0, 0.0, 0.0, 0.0, 0.0, 0.0, 0.0, 0.0, 0.0, 0.0, 0.0, 0.0, -338.89699078337793, -1137.501525584509, -2070.2958345510006, -3013.0265019261687, -3950.206082020119, -4883.052797935337, -5811.721259356526, -6735.175648854156, -6983.4046193072245, -6987.1714830972005, -6961.732095305947, -6936.670754190812, -6903.308765963714, -5548.921559875303, -3731.9558611268644, -1894.0139435084816, -303833.1289581098, -413568.43027854845, -422590.36200716876, -417110.7799376694, -413007.8480740947, -410844.5451762963, -409046.1036533265, -406225.00161101436, -402186.21271657565, -397405.8798516957, -392064.17803340935, -386380.7229787243, -381032.5030699651, -375688.1691989604, -370181.8401132464, -366725.31261238724, -367145.609421082, -366853.44521620485, -366340.5075796862, -365906.5098733029, -365525.5024272963, -365173.5774179453, -364829.40855230886, -364475.3455926651, -364106.13695520675, -363727.70485463314, -363336.53688215715, -362941.791023975, -362545.3631048463, -362146.3645452671, -361746.02953904, -361346.0357637055, -360440.17338240787, -359292.57339798316, -358083.439945028, -356826.3579553257, -355500.79788814567, -354078.2525031628, -352529.884139124, -351079.3385674352, -349877.6686440303, -348736.91415706463, -347524.0724901753, -346226.1337255699, -345333.96612455085, -345182.5559174778, -345453.5229175469, -345916.52003758843, -346547.3983694019, -347358.36795027653, -348319.80935173377, -349254.92759319046, -349046.4028663258, -348232.60758913547, -346718.12422469974, -343995.49526243994, -340136.4032811505, -334617.216430453, -327886.3680200595, -320519.4913610122, -313173.2063189566, -305543.72153222095, -299068.9808294902, -296774.3576911853, -295594.8291975433, -294736.3170422295, -294190.49954165507, -293755.20998585614, -293379.1077470005, -293031.3334628147, -292688.5747934876, -292329.078374794, -291957.22219533136, -291575.25857603236, -291179.6784955376, -290780.4478385475, -290379.64737144025, -289976.23296424275, -289571.6990820411, -289167.55706209934, -288763.02501376776, -288357.5006337275, -287951.92066073255, -287547.3676984545, -287143.2926400433, -286740.62208642403, -286339.3481295083, -285939.6432737518, -285540.7204705778, -285142.21643733385, -284743.4922239473, -284344.53707151796, -283945.44947447267, -283546.19351744995, -283146.7141912109, -282747.00998281286, -282347.1002336453, -281947.1146507835, -281547.02702984575, -281146.75859751273, -280746.33477703057, -280345.8281956698, -279945.2617886955, -279544.692085312, -279144.1431710479, -278743.6563815291, -278343.26136286394, -277942.8658795981, -277542.48817886336, -277142.1192786069, -276741.74341033475, -276341.3506126497, -275940.93300215004, -275540.4851136163, -275140.0034834431, -274739.49293119175, -274338.95619520964, -273938.3854944604, -273537.78195099515, -273137.14679595473, -272736.48302827764, -272335.79166814126, -271935.07682756777, -271534.34310673276, -271133.5953392678, -270732.82951389987, -270332.04531595, -269931.24190872157, -269530.41886738635, -269129.5744583653, -268728.7092024529, -268327.82168750983, -267926.91193334956, -267525.98066824547, -267125.02721211564, -266724.0510344934, -266323.05205791217, -265922.03014691616, -265520.9859963678, -265119.9197627452, -264718.8307956438, -264317.72068228916, -263916.5882058408, -263515.43456022005, -263114.25901821745, -262713.06188181153, -262311.84295304364, -261910.6020723907, -261509.33951382723, -261108.0550678736, -260706.74814873718, -260305.41951436913, -259904.0684793337, -259502.69578108672, -259101.30030621964, -258699.8832789986]\n",
      "[0, 0.0, 0.0, 0.0, 0.0, 0.0, 0.0, 0.0, 0.0, 0.0, 0.0, 0.0, 0.0, 0.0, 0.0, 0.0, 0.0, 0.0, 0.0, 0.0, 0.0, 0.0, 0.0, 0.0, 0.0, 0.0, 0.0, 0.0, 0.0, 0.0, 0.0, 0.0, 0.0, 0.0, 0.0, 0.0, 0.0, 0.0, 0.0, 0.0, 0.0, 0.0, 0.0, 0.0, 0.0, 0.0, 0.0, 0.0, 0.0, 0.0, 0.0, 0.0, 0.0, 0.0, 0.0, 0.0, 0.0, 0.0, 0.0, 0.0, 0.0, 0.0, 0.0, 0.0, 0.0, 0.0, 0.0, 0.0, 0.0, 0.0, 0.0, 0.0, 0.0, 0.0, 0.0, 0.0, 0.0, 0.0, 0.006544984694978736, 0.018981052241894628, 0.03083567720036394, 0.04280695622100908, 0.05482548870522439, 0.06684319881361009, 0.07885000648491591, 0.09084304264309197, 0.08972874263266437, 0.08992752350581988, 0.08997208854512105, 0.08991972097323946, 0.08984162877609335, 0.0635542827300787, 0.039983466314893135, 0.0161885602567459, 6.275503978532506, 5.5596240214313095, 5.585343401304943, 5.593459051170441, 5.581809558313499, 5.575294554478715, 5.5681947687201205, 5.56168221588571, 5.552692275716776, 5.54649973215793, 5.542442066254294, 5.534216592077024, 5.524006701244504, 5.514172044614456, 5.5044867705398115, 5.494489969586816, 5.489691007186349, 5.482973645200316, 5.480352613464878, 5.478351525432886, 5.476737408704209, 5.475358742399782, 5.474114971032591, 5.4729260342111425, 5.471726693954908, 5.470486992915106, 5.469214119244697, 5.467900740572856, 5.466568325890639, 5.465226925371253, 5.463876909085167, 5.462521571882151, 5.448076012296511, 5.435450789220067, 5.422744814055421, 5.409877870882595, 5.396850205393402, 5.383609082168578, 5.370069542449568, 5.362682663253842, 5.360439185828134, 5.356887608255571, 5.353120829899594, 5.349111329147341, 5.357917987808336, 5.37766658825023, 5.395577154073057, 5.4140169433177645, 5.433059092908463, 5.4526760525118245, 5.472892070412126, 5.493637359559363, 5.488268205079201, 5.486255865233065, 5.483680391276966, 5.479225565982922, 5.471269744538925, 5.446512935026323, 5.41980111975518, 5.389656022807012, 5.35713463677218, 5.324148243474228, 5.290396740864842, 5.259429014482404, 5.246156954467727, 5.243224899415976, 5.240410210512933, 5.238392390086203, 5.236833373844243, 5.235530387358843, 5.234358646715991, 5.233230586792386, 5.232071404526438, 5.230874651118087, 5.22964419717114, 5.228372150391277, 5.2270816288748385, 5.225783061939531, 5.224476308471944, 5.2231651128069565, 5.221854099158073, 5.220542380549521, 5.219228271658378, 5.217913725594018, 5.2166018793647915, 5.215292079827771, 5.2139865011377005, 5.212685611029613, 5.211389951115011, 5.210097680427928, 5.208807477465791, 5.207517442899721, 5.206227116080959, 5.204936631698802, 5.203645928967592, 5.202354857758126, 5.201063380544612, 5.1997715368288135, 5.198479658829211, 5.1971877562559365, 5.195895636350887, 5.194603319373357, 5.193310990281772, 5.192018747890254, 5.190726755857228, 5.189435111186663, 5.188143939034346, 5.186853341440026, 5.185563111845466, 5.1842732496647725, 5.182983731577891, 5.18169451300169, 5.180405559014022, 5.179116841975669, 5.177828341944993, 5.1765400457204525, 5.175251962250156, 5.173964100264431, 5.172676442346189, 5.171388987407289, 5.170101738182783, 5.168814702707007, 5.167527885280958, 5.166241297077558, 5.164954951991507, 5.163668865115115, 5.16238302981694, 5.1610974438388, 5.159812104526901, 5.158527010178418, 5.157242156049194, 5.155957542329501, 5.154673165490164, 5.1533890247543495, 5.152105121703446, 5.150821454949361, 5.149538022827666, 5.148254824730043, 5.1469718601369205, 5.145689130613936, 5.144406636849174, 5.143124377339699, 5.14184235565348, 5.1405605695053325, 5.139279021322342, 5.1379977097811, 5.136716635302379, 5.135435797438436, 5.1341551956514335, 5.1328748304572756, 5.131594701403088, 5.130314806893254, 5.129035148413307, 5.127755724539528, 5.126476536749889, 5.125197582558186, 5.123918864417717]\n"
     ]
    }
   ],
   "source": [
    "Mz = []\n",
    "delta = []\n",
    "for i in range(len(u)):\n",
    "    Mz.append(u[i][1][0])\n",
    "    delta.append(u[i][0][0])\n",
    "print(len(Mz), len(delta))\n",
    "print(Mz)\n",
    "print(delta)"
   ]
  },
  {
   "cell_type": "code",
   "execution_count": 16,
   "metadata": {},
   "outputs": [
    {
     "data": {
      "image/png": "[encoded data removed]",
      "text/plain": [
       "<Figure size 640x480 with 1 Axes>"
      ]
     },
     "metadata": {},
     "output_type": "display_data"
    },
    {
     "data": {
      "text/plain": [
       "Text(0.5, 1.0, 'steering angle (delta)')"
      ]
     },
     "execution_count": 16,
     "metadata": {},
     "output_type": "execute_result"
    },
    {
     "data": {
      "image/png": "[encoded data removed]",
      "text/plain": [
       "<Figure size 640x480 with 1 Axes>"
      ]
     },
     "metadata": {},
     "output_type": "display_data"
    }
   ],
   "source": [
    "plt.plot(time, Mz)\n",
    "plt.title(\"yaw moment (Mz)\")\n",
    "plt.show()\n",
    "plt.plot(time, delta)\n",
    "plt.title(\"steering angle (delta)\")"
   ]
  },
  {
   "attachments": {},
   "cell_type": "markdown",
   "metadata": {},
   "source": [
    "### Extracting `sideslip angle -> beta` and `yaw rate -> r` from `x[] and x_cap[]`"
   ]
  },
  {
   "cell_type": "code",
   "execution_count": 17,
   "metadata": {},
   "outputs": [
    {
     "name": "stdout",
     "output_type": "stream",
     "text": [
      "251 251\n",
      "[0, 0.0, 0.0, 0.0, 0.0, 0.0, 0.0, 0.0, 0.0, 0.0, 0.0, 0.0, 0.0, 0.0, 0.0, 0.0, 0.0, 0.0, 0.0, 0.0, 0.0, 0.0, 0.0, 0.0, 0.0, 0.0, 0.0, 0.0, 0.0, 0.0, 0.0, 0.0, 0.0, 0.0, 0.0, 0.0, 0.0, 0.0, 0.0, 0.0, 0.0, 0.0, 0.0, 0.0, 0.0, 0.0, 0.0, 0.0, 0.0, 0.0, 0.0, 0.0, 0.0, 0.0, 0.0, 0.0, 0.0, 0.0, 0.0, 0.0, 0.0, 0.0, 0.0, 0.0, 0.0, 0.0, 0.0, 0.0, 0.0, 0.0, 0.0, 0.0, 0.0, 0.0, 0.0, 0.0, 0.0, 0.0, 0.0, 0.0006744893095260035, 0.0020455620963549417, 0.003415329385455656, 0.004757406153899388, 0.00609667625311669, 0.007441087583019784, 0.008792784862353305, 0.010153703819124405, 0.010163443783707485, 0.010133901894338153, 0.01015576721469306, 0.01019624595929677, 0.010252597023939856, 0.007560008058174041, 0.004744696007490669, 0.0019701387542949873, 0.6794414312265026, 0.7094551040463918, 0.6904648561041257, 0.6860849248413656, 0.6882315873556453, 0.6919821465418465, 0.6955361834392594, 0.7002351818514431, 0.706867547054657, 0.7161978476516464, 0.7281631137384657, 0.7413374292792811, 0.7544485966887006, 0.7674553947526337, 0.7805857480271725, 0.7912552298019678, 0.7963123099516379, 0.7980065929430773, 0.799122881343147, 0.8000109177974907, 0.8007631084108775, 0.8014366890492818, 0.8020758287548307, 0.8027163525917842, 0.803376456248996, 0.8040546244823324, 0.8047539491139774, 0.8054646886980615, 0.8061808208376603, 0.8069015377490644, 0.8076252396759782, 0.8083493310382963, 0.8074633260668751, 0.8064872095907032, 0.8055884915215678, 0.8047753030663897, 0.804072774623577, 0.8035241845711778, 0.803179003948599, 0.8038951798003885, 0.8056982755887533, 0.8076923971354634, 0.80981588373089, 0.812082994717478, 0.8161331564579402, 0.8219496885743364, 0.8276463199198812, 0.8330299381881854, 0.8381054639273602, 0.8428630359052797, 0.8473344110563197, 0.8517428889771126, 0.8530533569237523, 0.8543961237630381, 0.856653384901513, 0.8606736377608781, 0.8666507916111421, 0.8730098526783484, 0.8810813682664795, 0.8904620166351868, 0.9001875402732951, 0.9102866264202535, 0.9191025772702699, 0.9225065073106593, 0.9238804445317491, 0.9253668061802335, 0.92647494614955, 0.9273228190625238, 0.9280239299010574, 0.9286485769858498, 0.9292450776705672, 0.9298535830821122, 0.9304813784003584, 0.9311270750014448, 0.9317941668880695, 0.9324722282048198, 0.933155078712502, 0.9338421807939532, 0.9345317726485329, 0.9352214740502094, 0.9359114407102928, 0.936602508633873, 0.9372938549585652, 0.937983900025376, 0.9386727747939461, 0.9393594922486806, 0.9400437133206982, 0.9407251564673776, 0.941404655946849, 0.942082933939935, 0.94276095696737, 0.9434390476200434, 0.9441171698782502, 0.9447953452169515, 0.9454736472787479, 0.946152101953639, 0.9468306928411921, 0.9475092618572102, 0.9481877860398583, 0.9488663549624137, 0.9495449696935656, 0.9502235424753962, 0.9509020167216914, 0.9515803100515752, 0.9522583678756809, 0.9529361260358717, 0.9536135297444472, 0.9542906702042729, 0.9549675589915837, 0.9556442072781319, 0.9563206372801027, 0.9569968678610163, 0.9576729139507971, 0.958348786457494, 0.9590244926967522, 0.9597000292214615, 0.960375391467537, 0.9610505871229849, 0.9617256176514677, 0.9624004818513802, 0.9630751758153218, 0.9637496970936987, 0.96442404021696, 0.9650981980691233, 0.9657721628211668, 0.9664459367590051, 0.967119521303869, 0.9677929178404892, 0.9684661273258961, 0.969139152090132, 0.9698119923156818, 0.9704846496609378, 0.9711571246931227, 0.971829416727529, 0.9725015263402071, 0.9731734543961581, 0.9738452012827037, 0.9745167672882916, 0.9751881517190393, 0.9758593541789362, 0.9765303753442466, 0.9772012136359164, 0.9778718699428276, 0.9785423432606855, 0.979212634090502, 0.9798827423162517, 0.9805526681368377, 0.981222411839044, 0.9818919732217423, 0.9825613524804573, 0.9832305503971875, 0.9838995663738666, 0.9845684010087308, 0.985237053696585, 0.9859055255332017, 0.9865738155141077]\n",
      "[0, 0.0, 0.0, 0.0, 0.0, 0.0, 0.0, 0.0, 0.0, 0.0, 0.0, 0.0, 0.0, 0.0, 0.0, 0.0, 0.0, 0.0, 0.0, 0.0, 0.0, 0.0, 0.0, 0.0, 0.0, 0.0, 0.0, 0.0, 0.0, 0.0, 0.0, 0.0, 0.0, 0.0, 0.0, 0.0, 0.0, 0.0, 0.0, 0.0, 0.0, 0.0, 0.0, 0.0, 0.0, 0.0, 0.0, 0.0, 0.0, 0.0, 0.0, 0.0, 0.0, 0.0, 0.0, 0.0, 0.0, 0.0, 0.0, 0.0, 0.0, 0.0, 0.0, 0.0, 0.0, 0.0, 0.0, 0.0, 0.0, 0.0, 0.0, 0.0, 0.0, 0.0, 0.0, 0.0, 0.0, 0.0, 0.0, 0.021622895375768426, 0.06894182497728456, 0.1203546880899185, 0.17161131830354262, 0.2226509690691108, 0.27364331885960314, 0.32462881445703407, 0.3756079124175379, 0.38338336736886114, 0.38300709180275616, 0.3825908623664809, 0.3824961001772601, 0.38241099205140117, 0.296045608231992, 0.19344964373374735, 0.0908888054490651, 20.62991116092098, 24.49520877463207, 24.455770262296014, 24.214792579584774, 24.124690802723904, 24.120779745683265, 24.124787506926193, 24.116490839239262, 24.103033392946998, 24.111747084313848, 24.147109661087843, 24.192118496716823, 24.246357884330152, 24.29897893976968, 24.34868844247434, 24.420298309485688, 24.517378227225365, 24.536623472110882, 24.539475153720105, 24.540948071948584, 24.5417846948828, 24.54220460831404, 24.542289041135675, 24.542093059897788, 24.541758513907645, 24.54144181497241, 24.541086707771036, 24.54081189875876, 24.540575274228722, 24.540336133192177, 24.5401056965814, 24.53989220893054, 24.497358934639593, 24.445911290387762, 24.393864896411785, 24.341771775951496, 24.28942064335558, 24.23665765669899, 24.183421934004656, 24.15085572412805, 24.144017468478218, 24.142227676182046, 24.14038057628823, 24.138314534673135, 24.178377550086278, 24.270566125522205, 24.37371313734134, 24.4775388327204, 24.58138446887432, 24.68546036600803, 24.789386764264172, 24.89145871825712, 24.906879555518955, 24.9042741489113, 24.89540259844391, 24.878826536098867, 24.859972662939832, 24.796560764802884, 24.724495185824654, 24.654716470755083, 24.591310721689705, 24.52543808548493, 24.47362065884927, 24.459911335644392, 24.446607627208472, 24.44502126783814, 24.446728854292544, 24.44749351667726, 24.44763021942067, 24.447362802162363, 24.446780640966676, 24.445884976831536, 24.44493136698668, 24.44396577371851, 24.44293874101659, 24.44198236007942, 24.44105756172678, 24.440123371835384, 24.43919629630718, 24.438283063106525, 24.43736228350713, 24.436429402203125, 24.43549945059862, 24.434579334856764, 24.433654393785694, 24.43273661506919, 24.4318201114149, 24.43090548655807, 24.429982489880803, 24.429052002037594, 24.428110516545352, 24.427163073848455, 24.426212095171532, 24.4252568364832, 24.424296836609233, 24.42333248015818, 24.422364087309145, 24.42139300449025, 24.420418045736277, 24.419438286227372, 24.418454523498465, 24.41746752408875, 24.41647704939885, 24.415483461748114, 24.41448659105942, 24.413486637025834, 24.41248359681415, 24.411476159843176, 24.41046507848025, 24.409450263226326, 24.408431600304212, 24.40740909822881, 24.406382763762508, 24.4053526108792, 24.404318655137708, 24.403280986969612, 24.402239614379468, 24.40119442670732, 24.400145482733784, 24.39909280021449, 24.398036406078795, 24.39697629083572, 24.395912489547104, 24.394845024837245, 24.39377391462012, 24.392699073923417, 24.391620516756124, 24.39053824050905, 24.389452248084936, 24.388362525104107, 24.387269090577554, 24.38617192880283, 24.385071049830632, 24.383966464598597, 24.382858161838243, 24.381746139680242, 24.380630402196715, 24.379510950035176, 24.37838779295579, 24.377260929165125, 24.37613034997325, 24.3749960777734, 24.373858090042397, 24.372716406679118, 24.37157101372042, 24.370421918496575, 24.369269118247384, 24.36811261285452, 24.366952407372573, 24.36578849863175, 24.364620881684054, 24.363449569819736, 24.362274551975453, 24.361095840694176, 24.35991342006931, 24.358727310927446]\n"
     ]
    }
   ],
   "source": [
    "'''\n",
    "0 -> beta\n",
    "1 -> r\n",
    "'''\n",
    "r = []\n",
    "beta = []\n",
    "\n",
    "for i in range(len(x)):\n",
    "    r.append(x[i][1][0])\n",
    "    beta.append(x[i][0][0])\n",
    "\n",
    "print(len(beta), len(r))\n",
    "print(beta)\n",
    "print(r)"
   ]
  },
  {
   "cell_type": "code",
   "execution_count": 18,
   "metadata": {},
   "outputs": [
    {
     "data": {
      "image/png": "[encoded data removed]",
      "text/plain": [
       "<Figure size 640x480 with 1 Axes>"
      ]
     },
     "metadata": {},
     "output_type": "display_data"
    },
    {
     "data": {
      "text/plain": [
       "Text(0.5, 1.0, 'yaw rate (r)')"
      ]
     },
     "execution_count": 18,
     "metadata": {},
     "output_type": "execute_result"
    },
    {
     "data": {
      "image/png": "[encoded data removed]",
      "text/plain": [
       "<Figure size 640x480 with 1 Axes>"
      ]
     },
     "metadata": {},
     "output_type": "display_data"
    }
   ],
   "source": [
    "plt.plot(time, beta)\n",
    "plt.title(\"sideslip angle (beta)\")\n",
    "plt.show()\n",
    "plt.plot(time, r)\n",
    "plt.title(\"yaw rate (r)\")"
   ]
  },
  {
   "cell_type": "code",
   "execution_count": 19,
   "metadata": {},
   "outputs": [
    {
     "name": "stdout",
     "output_type": "stream",
     "text": [
      "251 251\n",
      "[0, 0.0, 0.0, 0.0, 0.0, 0.0, 0.0, 0.0, 0.0, 0.0, 0.0, 0.0, 0.0, 0.0, 0.0, 0.0, 0.0, 0.0, 0.0, 0.0, 0.0, 0.0, 0.0, 0.0, 0.0, 0.0, 0.0, 0.0, 0.0, 0.0, 0.0, 0.0, 0.0, 0.0, 0.0, 0.0, 0.0, 0.0, 0.0, 0.0, 0.0, 0.0, 0.0, 0.0, 0.0, 0.0, 0.0, 0.0, 0.0, 0.0, 0.0, 0.0, 0.0, 0.0, 0.0, 0.0, 0.0, 0.0, 0.0, 0.0, 0.0, 0.0, 0.0, 0.0, 0.0, 0.0, 0.0, 0.0, 0.0, 0.0, 0.0, 0.0, 0.0, 0.0, 0.0, 0.0, 0.0, 0.0, 0.0, 0.0006744893095260035, 0.0020455620963549417, 0.003415329385455656, 0.004757406153899388, 0.00609667625311669, 0.007441087583019784, 0.008792784862353305, 0.010153703819124405, 0.010163443783707485, 0.010133901894338153, 0.01015576721469306, 0.01019624595929677, 0.010252597023939856, 0.007560008058174041, 0.004744696007490669, 0.0019701387542949873, 0.6794414312265026, 0.7094551040463918, 0.6904648561041257, 0.6860849248413656, 0.6882315873556453, 0.6919821465418465, 0.6955361834392594, 0.7002351818514431, 0.706867547054657, 0.7161978476516464, 0.7281631137384657, 0.7413374292792811, 0.7544485966887006, 0.7674553947526337, 0.7805857480271725, 0.7912552298019678, 0.7963123099516379, 0.7980065929430773, 0.799122881343147, 0.8000109177974907, 0.8007631084108775, 0.8014366890492818, 0.8020758287548307, 0.8027163525917842, 0.803376456248996, 0.8040546244823324, 0.8047539491139774, 0.8054646886980615, 0.8061808208376603, 0.8069015377490644, 0.8076252396759782, 0.8083493310382963, 0.8074633260668751, 0.8064872095907032, 0.8055884915215678, 0.8047753030663897, 0.804072774623577, 0.8035241845711778, 0.803179003948599, 0.8038951798003885, 0.8056982755887533, 0.8076923971354634, 0.80981588373089, 0.812082994717478, 0.8161331564579402, 0.8219496885743364, 0.8276463199198812, 0.8330299381881854, 0.8381054639273602, 0.8428630359052797, 0.8473344110563197, 0.8517428889771126, 0.8530533569237523, 0.8543961237630381, 0.856653384901513, 0.8606736377608781, 0.8666507916111421, 0.8730098526783484, 0.8810813682664795, 0.8904620166351868, 0.9001875402732951, 0.9102866264202535, 0.9191025772702699, 0.9225065073106593, 0.9238804445317491, 0.9253668061802335, 0.92647494614955, 0.9273228190625238, 0.9280239299010574, 0.9286485769858498, 0.9292450776705672, 0.9298535830821122, 0.9304813784003584, 0.9311270750014448, 0.9317941668880695, 0.9324722282048198, 0.933155078712502, 0.9338421807939532, 0.9345317726485329, 0.9352214740502094, 0.9359114407102928, 0.936602508633873, 0.9372938549585652, 0.937983900025376, 0.9386727747939461, 0.9393594922486806, 0.9400437133206982, 0.9407251564673776, 0.941404655946849, 0.942082933939935, 0.94276095696737, 0.9434390476200434, 0.9441171698782502, 0.9447953452169515, 0.9454736472787479, 0.946152101953639, 0.9468306928411921, 0.9475092618572102, 0.9481877860398583, 0.9488663549624137, 0.9495449696935656, 0.9502235424753962, 0.9509020167216914, 0.9515803100515752, 0.9522583678756809, 0.9529361260358717, 0.9536135297444472, 0.9542906702042729, 0.9549675589915837, 0.9556442072781319, 0.9563206372801027, 0.9569968678610163, 0.9576729139507971, 0.958348786457494, 0.9590244926967522, 0.9597000292214615, 0.960375391467537, 0.9610505871229849, 0.9617256176514677, 0.9624004818513802, 0.9630751758153218, 0.9637496970936987, 0.96442404021696, 0.9650981980691233, 0.9657721628211668, 0.9664459367590051, 0.967119521303869, 0.9677929178404892, 0.9684661273258961, 0.969139152090132, 0.9698119923156818, 0.9704846496609378, 0.9711571246931227, 0.971829416727529, 0.9725015263402071, 0.9731734543961581, 0.9738452012827037, 0.9745167672882916, 0.9751881517190393, 0.9758593541789362, 0.9765303753442466, 0.9772012136359164, 0.9778718699428276, 0.9785423432606855, 0.979212634090502, 0.9798827423162517, 0.9805526681368377, 0.981222411839044, 0.9818919732217423, 0.9825613524804573, 0.9832305503971875, 0.9838995663738666, 0.9845684010087308, 0.985237053696585, 0.9859055255332017, 0.9865738155141077]\n",
      "[0, 0.0, 0.0, 0.0, 0.0, 0.0, 0.0, 0.0, 0.0, 0.0, 0.0, 0.0, 0.0, 0.0, 0.0, 0.0, 0.0, 0.0, 0.0, 0.0, 0.0, 0.0, 0.0, 0.0, 0.0, 0.0, 0.0, 0.0, 0.0, 0.0, 0.0, 0.0, 0.0, 0.0, 0.0, 0.0, 0.0, 0.0, 0.0, 0.0, 0.0, 0.0, 0.0, 0.0, 0.0, 0.0, 0.0, 0.0, 0.0, 0.0, 0.0, 0.0, 0.0, 0.0, 0.0, 0.0, 0.0, 0.0, 0.0, 0.0, 0.0, 0.0, 0.0, 0.0, 0.0, 0.0, 0.0, 0.0, 0.0, 0.0, 0.0, 0.0, 0.0, 0.0, 0.0, 0.0, 0.0, 0.0, 0.0, 0.021622895375768426, 0.06894182497728456, 0.1203546880899185, 0.17161131830354262, 0.2226509690691108, 0.27364331885960314, 0.32462881445703407, 0.3756079124175379, 0.38338336736886114, 0.38300709180275616, 0.3825908623664809, 0.3824961001772601, 0.38241099205140117, 0.296045608231992, 0.19344964373374735, 0.0908888054490651, 20.62991116092098, 24.49520877463207, 24.455770262296014, 24.214792579584774, 24.124690802723904, 24.120779745683265, 24.124787506926193, 24.116490839239262, 24.103033392946998, 24.111747084313848, 24.147109661087843, 24.192118496716823, 24.246357884330152, 24.29897893976968, 24.34868844247434, 24.420298309485688, 24.517378227225365, 24.536623472110882, 24.539475153720105, 24.540948071948584, 24.5417846948828, 24.54220460831404, 24.542289041135675, 24.542093059897788, 24.541758513907645, 24.54144181497241, 24.541086707771036, 24.54081189875876, 24.540575274228722, 24.540336133192177, 24.5401056965814, 24.53989220893054, 24.497358934639593, 24.445911290387762, 24.393864896411785, 24.341771775951496, 24.28942064335558, 24.23665765669899, 24.183421934004656, 24.15085572412805, 24.144017468478218, 24.142227676182046, 24.14038057628823, 24.138314534673135, 24.178377550086278, 24.270566125522205, 24.37371313734134, 24.4775388327204, 24.58138446887432, 24.68546036600803, 24.789386764264172, 24.89145871825712, 24.906879555518955, 24.9042741489113, 24.89540259844391, 24.878826536098867, 24.859972662939832, 24.796560764802884, 24.724495185824654, 24.654716470755083, 24.591310721689705, 24.52543808548493, 24.47362065884927, 24.459911335644392, 24.446607627208472, 24.44502126783814, 24.446728854292544, 24.44749351667726, 24.44763021942067, 24.447362802162363, 24.446780640966676, 24.445884976831536, 24.44493136698668, 24.44396577371851, 24.44293874101659, 24.44198236007942, 24.44105756172678, 24.440123371835384, 24.43919629630718, 24.438283063106525, 24.43736228350713, 24.436429402203125, 24.43549945059862, 24.434579334856764, 24.433654393785694, 24.43273661506919, 24.4318201114149, 24.43090548655807, 24.429982489880803, 24.429052002037594, 24.428110516545352, 24.427163073848455, 24.426212095171532, 24.4252568364832, 24.424296836609233, 24.42333248015818, 24.422364087309145, 24.42139300449025, 24.420418045736277, 24.419438286227372, 24.418454523498465, 24.41746752408875, 24.41647704939885, 24.415483461748114, 24.41448659105942, 24.413486637025834, 24.41248359681415, 24.411476159843176, 24.41046507848025, 24.409450263226326, 24.408431600304212, 24.40740909822881, 24.406382763762508, 24.4053526108792, 24.404318655137708, 24.403280986969612, 24.402239614379468, 24.40119442670732, 24.400145482733784, 24.39909280021449, 24.398036406078795, 24.39697629083572, 24.395912489547104, 24.394845024837245, 24.39377391462012, 24.392699073923417, 24.391620516756124, 24.39053824050905, 24.389452248084936, 24.388362525104107, 24.387269090577554, 24.38617192880283, 24.385071049830632, 24.383966464598597, 24.382858161838243, 24.381746139680242, 24.380630402196715, 24.379510950035176, 24.37838779295579, 24.377260929165125, 24.37613034997325, 24.3749960777734, 24.373858090042397, 24.372716406679118, 24.37157101372042, 24.370421918496575, 24.369269118247384, 24.36811261285452, 24.366952407372573, 24.36578849863175, 24.364620881684054, 24.363449569819736, 24.362274551975453, 24.361095840694176, 24.35991342006931, 24.358727310927446]\n"
     ]
    }
   ],
   "source": [
    "'''\n",
    "0 -> beta\n",
    "1 -> r\n",
    "'''\n",
    "r_cap = []\n",
    "beta_cap = []\n",
    "for i in range(len(x)):\n",
    "    r_cap.append(x_cap[i][1][0])\n",
    "    beta_cap.append(x_cap[i][0][0])\n",
    "\n",
    "print(len(beta_cap), len(r_cap))\n",
    "print(beta_cap)\n",
    "print(r_cap)"
   ]
  },
  {
   "cell_type": "code",
   "execution_count": 20,
   "metadata": {},
   "outputs": [
    {
     "data": {
      "image/png": "[encoded data removed]",
      "text/plain": [
       "<Figure size 640x480 with 1 Axes>"
      ]
     },
     "metadata": {},
     "output_type": "display_data"
    },
    {
     "data": {
      "text/plain": [
       "Text(0.5, 1.0, 'estaimated yaw rate (r_cap)')"
      ]
     },
     "execution_count": 20,
     "metadata": {},
     "output_type": "execute_result"
    },
    {
     "data": {
      "image/png": "[encoded data removed]",
      "text/plain": [
       "<Figure size 640x480 with 1 Axes>"
      ]
     },
     "metadata": {},
     "output_type": "display_data"
    }
   ],
   "source": [
    "plt.plot(time, beta)\n",
    "plt.title(\"estimated sideslip angle (beta_cap)\")\n",
    "plt.show()\n",
    "plt.plot(time, r)\n",
    "plt.title(\"estaimated yaw rate (r_cap)\")"
   ]
  },
  {
   "attachments": {},
   "cell_type": "markdown",
   "metadata": {},
   "source": [
    "### Extracting `yaw rate -> r` and `inertial acceleration -> ay` from `y[] and y_cap[]`"
   ]
  },
  {
   "cell_type": "code",
   "execution_count": 21,
   "metadata": {},
   "outputs": [
    {
     "name": "stdout",
     "output_type": "stream",
     "text": [
      "251 251\n",
      "[0.0, 0.0, 0.0, 0.0, 0.0, 0.0, 0.0, 0.0, 0.0, 0.0, 0.0, 0.0, 0.0, 0.0, 0.0, 0.0, 0.0, 0.0, 0.0, 0.0, 0.0, 0.0, 0.0, 0.0, 0.0, 0.0, 0.0, 0.0, 0.0, 0.0, 0.0, 0.0, 0.0, 0.0, 0.0, 0.0, 0.0, 0.0, 0.0, 0.0, 0.0, 0.0, 0.0, 0.0, 0.0, 0.0, 0.0, 0.0, 0.0, 0.0, 0.0, 0.0, 0.0, 0.0, 0.0, 0.0, 0.0, 0.0, 0.0, 0.0, 0.0, 0.0, 0.0, 0.0, 0.0, 0.0, 0.0, 0.0, 0.0, 0.0, 0.0, 0.0, 0.0, 0.0, 0.0, 0.0, 0.0, 0.0, 0.0, 0.0, 0.021622895375768426, 0.06894182497728456, 0.1203546880899185, 0.17161131830354262, 0.2226509690691108, 0.27364331885960314, 0.32462881445703407, 0.3756079124175379, 0.38338336736886114, 0.38300709180275616, 0.3825908623664809, 0.3824961001772601, 0.38241099205140117, 0.296045608231992, 0.19344964373374735, 0.0908888054490651, 20.62991116092098, 24.49520877463207, 24.455770262296014, 24.214792579584774, 24.124690802723904, 24.120779745683265, 24.124787506926193, 24.116490839239262, 24.103033392946998, 24.111747084313848, 24.147109661087843, 24.192118496716823, 24.246357884330152, 24.29897893976968, 24.34868844247434, 24.420298309485688, 24.517378227225365, 24.536623472110882, 24.539475153720105, 24.540948071948584, 24.5417846948828, 24.54220460831404, 24.542289041135675, 24.542093059897788, 24.541758513907645, 24.54144181497241, 24.541086707771036, 24.54081189875876, 24.540575274228722, 24.540336133192177, 24.5401056965814, 24.53989220893054, 24.497358934639593, 24.445911290387762, 24.393864896411785, 24.341771775951496, 24.28942064335558, 24.23665765669899, 24.183421934004656, 24.15085572412805, 24.144017468478218, 24.142227676182046, 24.14038057628823, 24.138314534673135, 24.178377550086278, 24.270566125522205, 24.37371313734134, 24.4775388327204, 24.58138446887432, 24.68546036600803, 24.789386764264172, 24.89145871825712, 24.906879555518955, 24.9042741489113, 24.89540259844391, 24.878826536098867, 24.859972662939832, 24.796560764802884, 24.724495185824654, 24.654716470755083, 24.591310721689705, 24.52543808548493, 24.47362065884927, 24.459911335644392, 24.446607627208472, 24.44502126783814, 24.446728854292544, 24.44749351667726, 24.44763021942067, 24.447362802162363, 24.446780640966676, 24.445884976831536, 24.44493136698668, 24.44396577371851, 24.44293874101659, 24.44198236007942, 24.44105756172678, 24.440123371835384, 24.43919629630718, 24.438283063106525, 24.43736228350713, 24.436429402203125, 24.43549945059862, 24.434579334856764, 24.433654393785694, 24.43273661506919, 24.4318201114149, 24.43090548655807, 24.429982489880803, 24.429052002037594, 24.428110516545352, 24.427163073848455, 24.426212095171532, 24.4252568364832, 24.424296836609233, 24.42333248015818, 24.422364087309145, 24.42139300449025, 24.420418045736277, 24.419438286227372, 24.418454523498465, 24.41746752408875, 24.41647704939885, 24.415483461748114, 24.41448659105942, 24.413486637025834, 24.41248359681415, 24.411476159843176, 24.41046507848025, 24.409450263226326, 24.408431600304212, 24.40740909822881, 24.406382763762508, 24.4053526108792, 24.404318655137708, 24.403280986969612, 24.402239614379468, 24.40119442670732, 24.400145482733784, 24.39909280021449, 24.398036406078795, 24.39697629083572, 24.395912489547104, 24.394845024837245, 24.39377391462012, 24.392699073923417, 24.391620516756124, 24.39053824050905, 24.389452248084936, 24.388362525104107, 24.387269090577554, 24.38617192880283, 24.385071049830632, 24.383966464598597, 24.382858161838243, 24.381746139680242, 24.380630402196715, 24.379510950035176, 24.37838779295579, 24.377260929165125, 24.37613034997325, 24.3749960777734, 24.373858090042397, 24.372716406679118, 24.37157101372042, 24.370421918496575, 24.369269118247384, 24.36811261285452, 24.366952407372573, 24.36578849863175, 24.364620881684054, 24.363449569819736, 24.362274551975453, 24.361095840694176, 24.35991342006931]\n",
      "[0.0, 0.0, 0.0, 0.0, 0.0, 0.0, 0.0, 0.0, 0.0, 0.0, 0.0, 0.0, 0.0, 0.0, 0.0, 0.0, 0.0, 0.0, 0.0, 0.0, 0.0, 0.0, 0.0, 0.0, 0.0, 0.0, 0.0, 0.0, 0.0, 0.0, 0.0, 0.0, 0.0, 0.0, 0.0, 0.0, 0.0, 0.0, 0.0, 0.0, 0.0, 0.0, 0.0, 0.0, 0.0, 0.0, 0.0, 0.0, 0.0, 0.0, 0.0, 0.0, 0.0, 0.0, 0.0, 0.0, 0.0, 0.0, 0.0, 0.0, 0.0, 0.0, 0.0, 0.0, 0.0, 0.0, 0.0, 0.0, 0.0, 0.0, 0.0, 0.0, 0.0, 0.0, 0.0, 0.0, 0.0, 0.0, 0.0, 0.8912587422956468, 2.481859227452582, 3.899761452290072, 5.349444770523026, 6.812798814568839, 8.276338637289205, 9.737262956884553, 11.194882724521618, 10.865803310681315, 10.921564395215642, 10.936562480045414, 10.924616622704843, 10.906456284923093, 7.316728352327922, 4.517282373752454, 1.6553052293965302, 854.3765693452312, 651.9059549123018, 662.4567298329322, 668.8447155520208, 667.7808664205693, 666.1869356994108, 664.4127496505893, 662.9142723929874, 660.859099240809, 658.7699600657465, 656.452391305573, 653.0305085471255, 649.0311711581228, 645.1441261417135, 641.3213912028714, 637.1882043117146, 634.0705733165881, 632.2911285350848, 631.633400600692, 631.1306910112778, 630.7283311814535, 630.3874760142463, 630.0828408112978, 629.7943311986785, 629.5045426168161, 629.2045993855138, 628.8969573150813, 628.5785338790921, 628.2551019644818, 627.9295186732307, 627.6017282036579, 627.272456750444, 625.1607192042019, 623.5588966249537, 621.9374929640181, 620.2768088453114, 618.5795142943709, 616.8341911514808, 615.0205985327534, 614.0068765758733, 613.5075283979627, 612.6529974598111, 611.7499467610553, 610.7897374475466, 611.5455952443469, 613.4835621347884, 614.8935357288111, 616.4337333711532, 618.1215950120613, 619.9477013798789, 621.9221704604745, 624.0456549143026, 622.6440361321352, 622.1905700967158, 621.6522458250952, 620.7309076666007, 618.9709079687782, 614.5450801745126, 609.6977279573055, 603.9772107326447, 597.606615902312, 591.1517903061215, 584.3546363079665, 577.8422719119923, 575.2081122635796, 574.4937806248656, 573.7834462492874, 573.2816695310514, 572.8983362105632, 572.5815812499908, 572.3000313249867, 572.032266699518, 571.7571959501719, 571.472975030039, 571.1811244657689, 570.8782474366931, 570.5705555023733, 570.2610114120148, 569.949366279676, 569.6364819789455, 569.3237287496021, 569.0109181236531, 568.6974711587634, 568.383807013222, 568.0708592070048, 567.7583254643051, 567.4468136901398, 567.1364268678968, 566.8274084987377, 566.5192877814115, 566.2117787561191, 565.9043578389164, 565.596890649269, 565.2894204840375, 564.9819366680609, 564.6743977772521, 564.3667915132829, 564.0591134168019, 563.7514590445777, 563.4438395911396, 563.1361982901446, 562.8285326320159, 562.5208913149573, 562.2132944861222, 561.9057845038949, 561.5983828862338, 561.2911205924463, 560.984036763548, 560.6770713471363, 560.3702258810106, 560.063495778307, 559.7568698918194, 559.4503395819355, 559.1438979179527, 558.8375398491787, 558.5312611766506, 558.2250641000866, 557.9189519626088, 557.6129197479627, 557.3069670554755, 557.0010942853379, 556.6953035402997, 556.3895954915124, 556.0839726755173, 555.7784383363789, 555.4729971153495, 555.1676471511494, 554.8623879322986, 554.5572187744917, 554.2521394184827, 553.9471484812425, 553.6422461986734, 553.3374315812808, 553.0327043316017, 552.7280649717113, 552.4235131708458, 552.1190484755795, 551.8146707347639, 551.5103797174538, 551.2061758387022, 550.9020593607787, 550.5980296655672, 550.2940878963977, 549.99023325591, 549.6864665123984, 549.382787248879, 549.079195607207, 548.7756914771461, 548.4722746731584, 548.1689453626432, 547.8657034857719, 547.5625485032035, 547.2594809142242, 546.9565002235549, 546.6536069802191, 546.3508003333226]\n"
     ]
    }
   ],
   "source": [
    "'''\n",
    "0 -> r\n",
    "1 -> ay\n",
    "'''\n",
    "r1 = []\n",
    "ay = []\n",
    "for i in range(len(y)):\n",
    "    r1.append(y[i][0][0])\n",
    "    ay.append(y[i][1][0])\n",
    "\n",
    "print(len(r1), len(ay))\n",
    "print(r1)\n",
    "print(ay)"
   ]
  },
  {
   "cell_type": "code",
   "execution_count": 22,
   "metadata": {},
   "outputs": [
    {
     "data": {
      "image/png": "[encoded data removed]",
      "text/plain": [
       "<Figure size 640x480 with 1 Axes>"
      ]
     },
     "metadata": {},
     "output_type": "display_data"
    },
    {
     "data": {
      "text/plain": [
       "Text(0.5, 1.0, 'inertial acceleration (ay)')"
      ]
     },
     "execution_count": 22,
     "metadata": {},
     "output_type": "execute_result"
    },
    {
     "data": {
      "image/png": "[encoded data removed]",
      "text/plain": [
       "<Figure size 640x480 with 1 Axes>"
      ]
     },
     "metadata": {},
     "output_type": "display_data"
    }
   ],
   "source": [
    "plt.plot(time, r1)\n",
    "plt.title(\"yaw rate (r1)\")\n",
    "plt.show()\n",
    "plt.plot(time, ay)\n",
    "plt.title(\"inertial acceleration (ay)\")"
   ]
  },
  {
   "cell_type": "code",
   "execution_count": 23,
   "metadata": {},
   "outputs": [
    {
     "name": "stdout",
     "output_type": "stream",
     "text": [
      "251 251\n",
      "[0.0, 0.0, 0.0, 0.0, 0.0, 0.0, 0.0, 0.0, 0.0, 0.0, 0.0, 0.0, 0.0, 0.0, 0.0, 0.0, 0.0, 0.0, 0.0, 0.0, 0.0, 0.0, 0.0, 0.0, 0.0, 0.0, 0.0, 0.0, 0.0, 0.0, 0.0, 0.0, 0.0, 0.0, 0.0, 0.0, 0.0, 0.0, 0.0, 0.0, 0.0, 0.0, 0.0, 0.0, 0.0, 0.0, 0.0, 0.0, 0.0, 0.0, 0.0, 0.0, 0.0, 0.0, 0.0, 0.0, 0.0, 0.0, 0.0, 0.0, 0.0, 0.0, 0.0, 0.0, 0.0, 0.0, 0.0, 0.0, 0.0, 0.0, 0.0, 0.0, 0.0, 0.0, 0.0, 0.0, 0.0, 0.0, 0.0, 0.8912587422956468, 2.481859227452582, 3.899761452290072, 5.349444770523026, 6.812798814568839, 8.276338637289205, 9.737262956884553, 11.194882724521618, 10.865803310681315, 10.921564395215642, 10.936562480045414, 10.924616622704843, 10.906456284923093, 7.316728352327922, 4.517282373752454, 1.6553052293965302, 854.3765693452312, 651.9059549123018, 662.4567298329322, 668.8447155520208, 667.7808664205693, 666.1869356994108, 664.4127496505893, 662.9142723929874, 660.859099240809, 658.7699600657465, 656.452391305573, 653.0305085471255, 649.0311711581228, 645.1441261417135, 641.3213912028714, 637.1882043117146, 634.0705733165881, 632.2911285350848, 631.633400600692, 631.1306910112778, 630.7283311814535, 630.3874760142463, 630.0828408112978, 629.7943311986785, 629.5045426168161, 629.2045993855138, 628.8969573150813, 628.5785338790921, 628.2551019644818, 627.9295186732307, 627.6017282036579, 627.272456750444, 625.1607192042019, 623.5588966249537, 621.9374929640181, 620.2768088453114, 618.5795142943709, 616.8341911514808, 615.0205985327534, 614.0068765758733, 613.5075283979627, 612.6529974598111, 611.7499467610553, 610.7897374475466, 611.5455952443469, 613.4835621347884, 614.8935357288111, 616.4337333711532, 618.1215950120613, 619.9477013798789, 621.9221704604745, 624.0456549143026, 622.6440361321352, 622.1905700967158, 621.6522458250952, 620.7309076666007, 618.9709079687782, 614.5450801745126, 609.6977279573055, 603.9772107326447, 597.606615902312, 591.1517903061215, 584.3546363079665, 577.8422719119923, 575.2081122635796, 574.4937806248656, 573.7834462492874, 573.2816695310514, 572.8983362105632, 572.5815812499908, 572.3000313249867, 572.032266699518, 571.7571959501719, 571.472975030039, 571.1811244657689, 570.8782474366931, 570.5705555023733, 570.2610114120148, 569.949366279676, 569.6364819789455, 569.3237287496021, 569.0109181236531, 568.6974711587634, 568.383807013222, 568.0708592070048, 567.7583254643051, 567.4468136901398, 567.1364268678968, 566.8274084987377, 566.5192877814115, 566.2117787561191, 565.9043578389164, 565.596890649269, 565.2894204840375, 564.9819366680609, 564.6743977772521, 564.3667915132829, 564.0591134168019, 563.7514590445777, 563.4438395911396, 563.1361982901446, 562.8285326320159, 562.5208913149573, 562.2132944861222, 561.9057845038949, 561.5983828862338, 561.2911205924463, 560.984036763548, 560.6770713471363, 560.3702258810106, 560.063495778307, 559.7568698918194, 559.4503395819355, 559.1438979179527, 558.8375398491787, 558.5312611766506, 558.2250641000866, 557.9189519626088, 557.6129197479627, 557.3069670554755, 557.0010942853379, 556.6953035402997, 556.3895954915124, 556.0839726755173, 555.7784383363789, 555.4729971153495, 555.1676471511494, 554.8623879322986, 554.5572187744917, 554.2521394184827, 553.9471484812425, 553.6422461986734, 553.3374315812808, 553.0327043316017, 552.7280649717113, 552.4235131708458, 552.1190484755795, 551.8146707347639, 551.5103797174538, 551.2061758387022, 550.9020593607787, 550.5980296655672, 550.2940878963977, 549.99023325591, 549.6864665123984, 549.382787248879, 549.079195607207, 548.7756914771461, 548.4722746731584, 548.1689453626432, 547.8657034857719, 547.5625485032035, 547.2594809142242, 546.9565002235549, 546.6536069802191, 546.3508003333226]\n",
      "[0.0, 0.0, 0.0, 0.0, 0.0, 0.0, 0.0, 0.0, 0.0, 0.0, 0.0, 0.0, 0.0, 0.0, 0.0, 0.0, 0.0, 0.0, 0.0, 0.0, 0.0, 0.0, 0.0, 0.0, 0.0, 0.0, 0.0, 0.0, 0.0, 0.0, 0.0, 0.0, 0.0, 0.0, 0.0, 0.0, 0.0, 0.0, 0.0, 0.0, 0.0, 0.0, 0.0, 0.0, 0.0, 0.0, 0.0, 0.0, 0.0, 0.0, 0.0, 0.0, 0.0, 0.0, 0.0, 0.0, 0.0, 0.0, 0.0, 0.0, 0.0, 0.0, 0.0, 0.0, 0.0, 0.0, 0.0, 0.0, 0.0, 0.0, 0.0, 0.0, 0.0, 0.0, 0.0, 0.0, 0.0, 0.0, 0.0, 0.0, 0.021622895375768426, 0.06894182497728456, 0.1203546880899185, 0.17161131830354262, 0.2226509690691108, 0.27364331885960314, 0.32462881445703407, 0.3756079124175379, 0.38338336736886114, 0.38300709180275616, 0.3825908623664809, 0.3824961001772601, 0.38241099205140117, 0.296045608231992, 0.19344964373374735, 0.0908888054490651, 20.62991116092098, 24.49520877463207, 24.455770262296014, 24.214792579584774, 24.124690802723904, 24.120779745683265, 24.124787506926193, 24.116490839239262, 24.103033392946998, 24.111747084313848, 24.147109661087843, 24.192118496716823, 24.246357884330152, 24.29897893976968, 24.34868844247434, 24.420298309485688, 24.517378227225365, 24.536623472110882, 24.539475153720105, 24.540948071948584, 24.5417846948828, 24.54220460831404, 24.542289041135675, 24.542093059897788, 24.541758513907645, 24.54144181497241, 24.541086707771036, 24.54081189875876, 24.540575274228722, 24.540336133192177, 24.5401056965814, 24.53989220893054, 24.497358934639593, 24.445911290387762, 24.393864896411785, 24.341771775951496, 24.28942064335558, 24.23665765669899, 24.183421934004656, 24.15085572412805, 24.144017468478218, 24.142227676182046, 24.14038057628823, 24.138314534673135, 24.178377550086278, 24.270566125522205, 24.37371313734134, 24.4775388327204, 24.58138446887432, 24.68546036600803, 24.789386764264172, 24.89145871825712, 24.906879555518955, 24.9042741489113, 24.89540259844391, 24.878826536098867, 24.859972662939832, 24.796560764802884, 24.724495185824654, 24.654716470755083, 24.591310721689705, 24.52543808548493, 24.47362065884927, 24.459911335644392, 24.446607627208472, 24.44502126783814, 24.446728854292544, 24.44749351667726, 24.44763021942067, 24.447362802162363, 24.446780640966676, 24.445884976831536, 24.44493136698668, 24.44396577371851, 24.44293874101659, 24.44198236007942, 24.44105756172678, 24.440123371835384, 24.43919629630718, 24.438283063106525, 24.43736228350713, 24.436429402203125, 24.43549945059862, 24.434579334856764, 24.433654393785694, 24.43273661506919, 24.4318201114149, 24.43090548655807, 24.429982489880803, 24.429052002037594, 24.428110516545352, 24.427163073848455, 24.426212095171532, 24.4252568364832, 24.424296836609233, 24.42333248015818, 24.422364087309145, 24.42139300449025, 24.420418045736277, 24.419438286227372, 24.418454523498465, 24.41746752408875, 24.41647704939885, 24.415483461748114, 24.41448659105942, 24.413486637025834, 24.41248359681415, 24.411476159843176, 24.41046507848025, 24.409450263226326, 24.408431600304212, 24.40740909822881, 24.406382763762508, 24.4053526108792, 24.404318655137708, 24.403280986969612, 24.402239614379468, 24.40119442670732, 24.400145482733784, 24.39909280021449, 24.398036406078795, 24.39697629083572, 24.395912489547104, 24.394845024837245, 24.39377391462012, 24.392699073923417, 24.391620516756124, 24.39053824050905, 24.389452248084936, 24.388362525104107, 24.387269090577554, 24.38617192880283, 24.385071049830632, 24.383966464598597, 24.382858161838243, 24.381746139680242, 24.380630402196715, 24.379510950035176, 24.37838779295579, 24.377260929165125, 24.37613034997325, 24.3749960777734, 24.373858090042397, 24.372716406679118, 24.37157101372042, 24.370421918496575, 24.369269118247384, 24.36811261285452, 24.366952407372573, 24.36578849863175, 24.364620881684054, 24.363449569819736, 24.362274551975453, 24.361095840694176, 24.35991342006931]\n"
     ]
    }
   ],
   "source": [
    "'''\n",
    "0 -> r1\n",
    "1 -> ay\n",
    "'''\n",
    "r1_cap = []\n",
    "ay_cap = []\n",
    "for i in range(len(y_cap)):\n",
    "    r1_cap.append(y_cap[i][1][0])\n",
    "    ay_cap.append(y_cap[i][0][0])\n",
    "\n",
    "print(len(r1_cap), len(ay_cap))\n",
    "print(r1_cap)\n",
    "print(ay_cap)"
   ]
  },
  {
   "cell_type": "code",
   "execution_count": 24,
   "metadata": {},
   "outputs": [
    {
     "data": {
      "image/png": "[encoded data removed]",
      "text/plain": [
       "<Figure size 640x480 with 1 Axes>"
      ]
     },
     "metadata": {},
     "output_type": "display_data"
    },
    {
     "data": {
      "text/plain": [
       "Text(0.5, 1.0, 'estimated inertial acceleration (ay)')"
      ]
     },
     "execution_count": 24,
     "metadata": {},
     "output_type": "execute_result"
    },
    {
     "data": {
      "image/png": "[encoded data removed]",
      "text/plain": [
       "<Figure size 640x480 with 1 Axes>"
      ]
     },
     "metadata": {},
     "output_type": "display_data"
    }
   ],
   "source": [
    "plt.plot(time, r1)\n",
    "plt.title(\"estimated yaw rate (r1)\")\n",
    "plt.show()\n",
    "plt.plot(time, ay)\n",
    "plt.title(\"estimated inertial acceleration (ay)\")"
   ]
  },
  {
   "attachments": {},
   "cell_type": "markdown",
   "metadata": {},
   "source": [
    "---"
   ]
  },
  {
   "attachments": {},
   "cell_type": "markdown",
   "metadata": {},
   "source": [
    "## Inputs and Outputs"
   ]
  },
  {
   "cell_type": "code",
   "execution_count": 25,
   "metadata": {},
   "outputs": [],
   "source": [
    "inputs = [[], []]\n",
    "\n",
    "for i in range(len(u)):\n",
    "    inputs[0].append(u[i][0][0])\n",
    "    inputs[1].append(u[i][1][0])\n",
    "\n",
    "inputs = np.array(inputs)"
   ]
  },
  {
   "cell_type": "code",
   "execution_count": 26,
   "metadata": {},
   "outputs": [],
   "source": [
    "outputs = [[], []]\n",
    "\n",
    "for i in range(len(y)):\n",
    "    outputs[0].append(y[i][0][0])\n",
    "    outputs[1].append(y[i][1][0])\n",
    "\n",
    "outputs = np.array(outputs)"
   ]
  },
  {
   "attachments": {},
   "cell_type": "markdown",
   "metadata": {},
   "source": [
    "# Inserting noise to the output data"
   ]
  },
  {
   "cell_type": "code",
   "execution_count": 27,
   "metadata": {},
   "outputs": [],
   "source": [
    "from sippy import functionset as fset"
   ]
  },
  {
   "cell_type": "code",
   "execution_count": 28,
   "metadata": {},
   "outputs": [],
   "source": [
    "size = len(inputs[0])\n",
    "noise = fset.white_noise_var(size, [0.001, 0.01])"
   ]
  },
  {
   "cell_type": "code",
   "execution_count": 29,
   "metadata": {},
   "outputs": [],
   "source": [
    "netOuput = outputs + noise"
   ]
  },
  {
   "cell_type": "code",
   "execution_count": 30,
   "metadata": {},
   "outputs": [
    {
     "data": {
      "text/plain": [
       "(2, 251)"
      ]
     },
     "execution_count": 30,
     "metadata": {},
     "output_type": "execute_result"
    }
   ],
   "source": [
    "netOuput.shape"
   ]
  },
  {
   "attachments": {},
   "cell_type": "markdown",
   "metadata": {},
   "source": [
    "---"
   ]
  },
  {
   "cell_type": "code",
   "execution_count": 31,
   "metadata": {},
   "outputs": [
    {
     "data": {
      "image/png": "[encoded data removed]",
      "text/plain": [
       "<Figure size 640x480 with 1 Axes>"
      ]
     },
     "metadata": {},
     "output_type": "display_data"
    },
    {
     "data": {
      "text/plain": [
       "Text(0.5, 1.0, 'inertial acceleration (ay)')"
      ]
     },
     "execution_count": 31,
     "metadata": {},
     "output_type": "execute_result"
    },
    {
     "data": {
      "image/png": "[encoded data removed]",
      "text/plain": [
       "<Figure size 640x480 with 1 Axes>"
      ]
     },
     "metadata": {},
     "output_type": "display_data"
    }
   ],
   "source": [
    "plt.plot(time, netOuput[0])\n",
    "plt.title(\"yaw rate (r1)\")\n",
    "plt.show()\n",
    "plt.plot(time, netOuput[1])\n",
    "plt.title(\"inertial acceleration (ay)\")"
   ]
  },
  {
   "cell_type": "code",
   "execution_count": 43,
   "metadata": {},
   "outputs": [
    {
     "data": {
      "text/plain": [
       "[30.0,\n",
       " 29.98896577,\n",
       " 29.97307045,\n",
       " 29.95719028,\n",
       " 29.94132263,\n",
       " 29.92543387,\n",
       " 29.90954455,\n",
       " 29.8936593,\n",
       " 29.8777837,\n",
       " 29.86192225,\n",
       " 29.84607964,\n",
       " 29.83025774,\n",
       " 29.8144528,\n",
       " 29.79866568,\n",
       " 29.78289527,\n",
       " 29.76713995,\n",
       " 29.75139817,\n",
       " 29.73566847,\n",
       " 29.71994965,\n",
       " 29.70424078,\n",
       " 29.68854101,\n",
       " 29.67284976,\n",
       " 29.65716811,\n",
       " 29.64149601,\n",
       " 29.6258336,\n",
       " 29.6101811,\n",
       " 29.59453874,\n",
       " 29.57890674,\n",
       " 29.56328529,\n",
       " 29.54767457,\n",
       " 29.5320747,\n",
       " 29.51648588,\n",
       " 29.50090803,\n",
       " 29.48534106,\n",
       " 29.46978495,\n",
       " 29.45423961,\n",
       " 29.43870497,\n",
       " 29.42318096,\n",
       " 29.40766752,\n",
       " 29.39216459,\n",
       " 29.37667212,\n",
       " 29.36119009,\n",
       " 29.34571852,\n",
       " 29.33025739,\n",
       " 29.31480667,\n",
       " 29.29936638,\n",
       " 29.28393651,\n",
       " 29.26851706,\n",
       " 29.25310802,\n",
       " 29.23770939,\n",
       " 29.22232118,\n",
       " 29.20694336,\n",
       " 29.19157593,\n",
       " 29.17621889,\n",
       " 29.1608722,\n",
       " 29.14553586,\n",
       " 29.13020985,\n",
       " 29.11489416,\n",
       " 29.09958877,\n",
       " 29.08429366,\n",
       " 29.06900883,\n",
       " 29.05373425,\n",
       " 29.03846992,\n",
       " 29.02321583,\n",
       " 29.00797195,\n",
       " 28.99273829,\n",
       " 28.97751483,\n",
       " 28.96230155,\n",
       " 28.94709846,\n",
       " 28.93190553,\n",
       " 28.91672276,\n",
       " 28.90155013,\n",
       " 28.88638763,\n",
       " 28.87123524,\n",
       " 28.85609297,\n",
       " 28.84096078,\n",
       " 28.82583868,\n",
       " 28.81072665,\n",
       " 28.79562507,\n",
       " 28.7803812,\n",
       " 28.76430228,\n",
       " 28.74678829,\n",
       " 28.72727204,\n",
       " 28.70482893,\n",
       " 28.67828911,\n",
       " 28.64646049,\n",
       " 28.60875074,\n",
       " 28.56700313,\n",
       " 28.52150651,\n",
       " 28.46804113,\n",
       " 28.39229286,\n",
       " 28.28292903,\n",
       " 28.14614412,\n",
       " 28.00733427,\n",
       " 27.87701465,\n",
       " 27.78560825,\n",
       " 27.71041618,\n",
       " 27.63358211,\n",
       " 27.55531048,\n",
       " 27.48828597,\n",
       " 27.42165154,\n",
       " 27.32332751,\n",
       " 27.18548224,\n",
       " 27.01168321,\n",
       " 26.80474127,\n",
       " 26.58119646,\n",
       " 26.36661006,\n",
       " 26.15465634,\n",
       " 25.94127681,\n",
       " 25.7885452,\n",
       " 25.75240534,\n",
       " 25.72552002,\n",
       " 25.70544138,\n",
       " 25.68996397,\n",
       " 25.6766894,\n",
       " 25.6646495,\n",
       " 25.65307311,\n",
       " 25.6413367,\n",
       " 25.62919022,\n",
       " 25.61674289,\n",
       " 25.60389429,\n",
       " 25.59089508,\n",
       " 25.57782075,\n",
       " 25.56466535,\n",
       " 25.5514675,\n",
       " 25.5382781,\n",
       " 25.52507233,\n",
       " 25.51139169,\n",
       " 25.49656966,\n",
       " 25.48015698,\n",
       " 25.46152473,\n",
       " 25.43980111,\n",
       " 25.41404814,\n",
       " 25.3834203,\n",
       " 25.34894003,\n",
       " 25.31208411,\n",
       " 25.27252948,\n",
       " 25.23030496,\n",
       " 25.18555532,\n",
       " 25.1415787,\n",
       " 25.10274027,\n",
       " 25.06947406,\n",
       " 25.04193873,\n",
       " 25.02038164,\n",
       " 25.00393814,\n",
       " 24.9877382,\n",
       " 24.96660185,\n",
       " 24.94080109,\n",
       " 24.89692033,\n",
       " 24.81884693,\n",
       " 24.70655199,\n",
       " 24.55786567,\n",
       " 24.37837232,\n",
       " 24.17875731,\n",
       " 23.97695488,\n",
       " 23.76793719,\n",
       " 23.5878391,\n",
       " 23.51578982,\n",
       " 23.4815998,\n",
       " 23.45645129,\n",
       " 23.43867278,\n",
       " 23.42469335,\n",
       " 23.4129384,\n",
       " 23.40231415,\n",
       " 23.39203952,\n",
       " 23.38143701,\n",
       " 23.37050206,\n",
       " 23.35926809,\n",
       " 23.34765222,\n",
       " 23.33589215,\n",
       " 23.32406793,\n",
       " 23.31217167,\n",
       " 23.30024224,\n",
       " 23.28832184,\n",
       " 23.27639786,\n",
       " 23.26445519,\n",
       " 23.2525146,\n",
       " 23.24060495,\n",
       " 23.22871711,\n",
       " 23.21687355,\n",
       " 23.20507672,\n",
       " 23.19333178,\n",
       " 23.18162014,\n",
       " 23.16993055,\n",
       " 23.15824528,\n",
       " 23.14656135,\n",
       " 23.13488023,\n",
       " 23.12320113,\n",
       " 23.11152265,\n",
       " 23.09984455,\n",
       " 23.08816723,\n",
       " 23.0764939,\n",
       " 23.06482436,\n",
       " 23.05315676,\n",
       " 23.04149147,\n",
       " 23.02983025,\n",
       " 23.0181739,\n",
       " 23.00652395,\n",
       " 22.99488121,\n",
       " 22.98324683,\n",
       " 22.9716217,\n",
       " 22.96000373,\n",
       " 22.9483931,\n",
       " 22.93678955,\n",
       " 22.92519266,\n",
       " 22.91360212,\n",
       " 22.90201768,\n",
       " 22.89043916,\n",
       " 22.87886644,\n",
       " 22.86729961,\n",
       " 22.85573874,\n",
       " 22.84418365,\n",
       " 22.83263434,\n",
       " 22.82109083,\n",
       " 22.80955319,\n",
       " 22.79802145,\n",
       " 22.78649571,\n",
       " 22.77497609,\n",
       " 22.76346272,\n",
       " 22.75195552,\n",
       " 22.74045447,\n",
       " 22.72895954,\n",
       " 22.71747071,\n",
       " 22.70598793,\n",
       " 22.6945112,\n",
       " 22.68304048,\n",
       " 22.67157576,\n",
       " 22.66011705,\n",
       " 22.64866433,\n",
       " 22.63721758,\n",
       " 22.62577679,\n",
       " 22.61434195,\n",
       " 22.60291307,\n",
       " 22.59149015,\n",
       " 22.58007317,\n",
       " 22.56866216,\n",
       " 22.55725709,\n",
       " 22.54585798,\n",
       " 22.53446481,\n",
       " 22.52307758,\n",
       " 22.51169628,\n",
       " 22.5003209,\n",
       " 22.48895144,\n",
       " 22.47758789,\n",
       " 22.46623023,\n",
       " 22.45487847,\n",
       " 22.44353259,\n",
       " 22.4321926,\n",
       " 22.42085847,\n",
       " 22.40953022,\n",
       " 22.39820783]"
      ]
     },
     "execution_count": 43,
     "metadata": {},
     "output_type": "execute_result"
    }
   ],
   "source": [
    "velocity"
   ]
  },
  {
   "attachments": {},
   "cell_type": "markdown",
   "metadata": {},
   "source": [
    "---\n",
    "---"
   ]
  },
  {
   "attachments": {},
   "cell_type": "markdown",
   "metadata": {},
   "source": [
    "# SYSTEM IDENTIFICATION USING **SIPPY**"
   ]
  },
  {
   "cell_type": "code",
   "execution_count": 32,
   "metadata": {},
   "outputs": [],
   "source": [
    "from sippy import system_identification\n",
    "from sippy import functionset as fset\n",
    "from sippy import functionsetSIM as fsetSIM\n",
    "from sklearn.metrics import r2_score\n",
    "from sklearn.metrics import mean_squared_error"
   ]
  },
  {
   "attachments": {},
   "cell_type": "markdown",
   "metadata": {},
   "source": [
    "## Using State-Space form"
   ]
  },
  {
   "cell_type": "code",
   "execution_count": 33,
   "metadata": {},
   "outputs": [],
   "source": [
    "METHOD = [\n",
    "    'N4SID',\n",
    "    'CVA', \n",
    "    'MOESP', \n",
    "    'PARSIM-S', \n",
    "    'PARSIM-P', \n",
    "    'PARSIM-K'\n",
    "    ]\n",
    "\n",
    "lege = ['System']"
   ]
  },
  {
   "cell_type": "code",
   "execution_count": 34,
   "metadata": {},
   "outputs": [],
   "source": [
    "sysId = system_identification(netOuput, inputs, METHOD[1])"
   ]
  },
  {
   "cell_type": "code",
   "execution_count": 35,
   "metadata": {},
   "outputs": [],
   "source": [
    "x_id, y_id = fsetSIM.SS_lsim_process_form(sysId.A, sysId.B, sysId.C, sysId.D, inputs, sysId.x0)"
   ]
  },
  {
   "cell_type": "code",
   "execution_count": 36,
   "metadata": {},
   "outputs": [
    {
     "data": {
      "text/plain": [
       "[<matplotlib.lines.Line2D at 0x28575618220>]"
      ]
     },
     "execution_count": 36,
     "metadata": {},
     "output_type": "execute_result"
    },
    {
     "data": {
      "image/png": "[encoded data removed]",
      "text/plain": [
       "<Figure size 1700x600 with 1 Axes>"
      ]
     },
     "metadata": {},
     "output_type": "display_data"
    }
   ],
   "source": [
    "plt.figure(figsize=(17, 6))\n",
    "plt.plot(time, y_id[0])\n",
    "plt.plot(time, outputs[0])"
   ]
  },
  {
   "cell_type": "code",
   "execution_count": 37,
   "metadata": {},
   "outputs": [
    {
     "data": {
      "text/plain": [
       "[<matplotlib.lines.Line2D at 0x28573367f40>]"
      ]
     },
     "execution_count": 37,
     "metadata": {},
     "output_type": "execute_result"
    },
    {
     "data": {
      "image/png": "[encoded data removed]",
      "text/plain": [
       "<Figure size 1700x600 with 1 Axes>"
      ]
     },
     "metadata": {},
     "output_type": "display_data"
    }
   ],
   "source": [
    "plt.figure(figsize=(17, 6))\n",
    "plt.plot(time, y_id[1])\n",
    "plt.plot(time, outputs[1])"
   ]
  },
  {
   "cell_type": "code",
   "execution_count": 38,
   "metadata": {},
   "outputs": [
    {
     "data": {
      "text/plain": [
       "0.9999919713799997"
      ]
     },
     "execution_count": 38,
     "metadata": {},
     "output_type": "execute_result"
    }
   ],
   "source": [
    "# for yaw rate\n",
    "r2_score(netOuput[0], y_id[0])"
   ]
  },
  {
   "cell_type": "code",
   "execution_count": 39,
   "metadata": {},
   "outputs": [
    {
     "data": {
      "text/plain": [
       "0.9999996362485702"
      ]
     },
     "execution_count": 39,
     "metadata": {},
     "output_type": "execute_result"
    }
   ],
   "source": [
    "# for inretial acceleration ay\n",
    "r2_score(netOuput[1], y_id[1])"
   ]
  },
  {
   "attachments": {},
   "cell_type": "markdown",
   "metadata": {},
   "source": [
    "---"
   ]
  },
  {
   "cell_type": "code",
   "execution_count": 40,
   "metadata": {},
   "outputs": [
    {
     "data": {
      "text/plain": [
       "0.03355426227320828"
      ]
     },
     "execution_count": 40,
     "metadata": {},
     "output_type": "execute_result"
    }
   ],
   "source": [
    "# for yaw rate\n",
    "math.sqrt(mean_squared_error(netOuput[0], y_id[0]))"
   ]
  },
  {
   "cell_type": "code",
   "execution_count": 41,
   "metadata": {},
   "outputs": [
    {
     "data": {
      "text/plain": [
       "0.03355426227320828"
      ]
     },
     "execution_count": 41,
     "metadata": {},
     "output_type": "execute_result"
    }
   ],
   "source": [
    "# for inretial acceleration ay\n",
    "math.sqrt(mean_squared_error(netOuput[0], y_id[0]))"
   ]
  },
  {
   "attachments": {},
   "cell_type": "markdown",
   "metadata": {},
   "source": [
    "---\n",
    "# Circular Maneuver\n",
    "---"
   ]
  },
  {
   "cell_type": "code",
   "execution_count": 42,
   "metadata": {},
   "outputs": [
    {
     "ename": "FileNotFoundError",
     "evalue": "[Errno 2] No such file or directory: './Circular maneuver/circular_input.csv'",
     "output_type": "error",
     "traceback": [
      "\u001b[1;31m---------------------------------------------------------------------------\u001b[0m",
      "\u001b[1;31mFileNotFoundError\u001b[0m                         Traceback (most recent call last)",
      "Cell \u001b[1;32mIn[42], line 1\u001b[0m\n\u001b[1;32m----> 1\u001b[0m circular_data \u001b[39m=\u001b[39m pd\u001b[39m.\u001b[39;49mread_csv(\u001b[39m'\u001b[39;49m\u001b[39m./Circular maneuver/circular_input.csv\u001b[39;49m\u001b[39m'\u001b[39;49m)\n\u001b[0;32m      2\u001b[0m circular_data\u001b[39m.\u001b[39mhead()\n",
      "File \u001b[1;32mc:\\ProgramData\\anaconda3\\lib\\site-packages\\pandas\\util\\_decorators.py:211\u001b[0m, in \u001b[0;36mdeprecate_kwarg.<locals>._deprecate_kwarg.<locals>.wrapper\u001b[1;34m(*args, **kwargs)\u001b[0m\n\u001b[0;32m    209\u001b[0m     \u001b[39melse\u001b[39;00m:\n\u001b[0;32m    210\u001b[0m         kwargs[new_arg_name] \u001b[39m=\u001b[39m new_arg_value\n\u001b[1;32m--> 211\u001b[0m \u001b[39mreturn\u001b[39;00m func(\u001b[39m*\u001b[39margs, \u001b[39m*\u001b[39m\u001b[39m*\u001b[39mkwargs)\n",
      "File \u001b[1;32mc:\\ProgramData\\anaconda3\\lib\\site-packages\\pandas\\util\\_decorators.py:331\u001b[0m, in \u001b[0;36mdeprecate_nonkeyword_arguments.<locals>.decorate.<locals>.wrapper\u001b[1;34m(*args, **kwargs)\u001b[0m\n\u001b[0;32m    325\u001b[0m \u001b[39mif\u001b[39;00m \u001b[39mlen\u001b[39m(args) \u001b[39m>\u001b[39m num_allow_args:\n\u001b[0;32m    326\u001b[0m     warnings\u001b[39m.\u001b[39mwarn(\n\u001b[0;32m    327\u001b[0m         msg\u001b[39m.\u001b[39mformat(arguments\u001b[39m=\u001b[39m_format_argument_list(allow_args)),\n\u001b[0;32m    328\u001b[0m         \u001b[39mFutureWarning\u001b[39;00m,\n\u001b[0;32m    329\u001b[0m         stacklevel\u001b[39m=\u001b[39mfind_stack_level(),\n\u001b[0;32m    330\u001b[0m     )\n\u001b[1;32m--> 331\u001b[0m \u001b[39mreturn\u001b[39;00m func(\u001b[39m*\u001b[39margs, \u001b[39m*\u001b[39m\u001b[39m*\u001b[39mkwargs)\n",
      "File \u001b[1;32mc:\\ProgramData\\anaconda3\\lib\\site-packages\\pandas\\io\\parsers\\readers.py:950\u001b[0m, in \u001b[0;36mread_csv\u001b[1;34m(filepath_or_buffer, sep, delimiter, header, names, index_col, usecols, squeeze, prefix, mangle_dupe_cols, dtype, engine, converters, true_values, false_values, skipinitialspace, skiprows, skipfooter, nrows, na_values, keep_default_na, na_filter, verbose, skip_blank_lines, parse_dates, infer_datetime_format, keep_date_col, date_parser, dayfirst, cache_dates, iterator, chunksize, compression, thousands, decimal, lineterminator, quotechar, quoting, doublequote, escapechar, comment, encoding, encoding_errors, dialect, error_bad_lines, warn_bad_lines, on_bad_lines, delim_whitespace, low_memory, memory_map, float_precision, storage_options)\u001b[0m\n\u001b[0;32m    935\u001b[0m kwds_defaults \u001b[39m=\u001b[39m _refine_defaults_read(\n\u001b[0;32m    936\u001b[0m     dialect,\n\u001b[0;32m    937\u001b[0m     delimiter,\n\u001b[1;32m   (...)\u001b[0m\n\u001b[0;32m    946\u001b[0m     defaults\u001b[39m=\u001b[39m{\u001b[39m\"\u001b[39m\u001b[39mdelimiter\u001b[39m\u001b[39m\"\u001b[39m: \u001b[39m\"\u001b[39m\u001b[39m,\u001b[39m\u001b[39m\"\u001b[39m},\n\u001b[0;32m    947\u001b[0m )\n\u001b[0;32m    948\u001b[0m kwds\u001b[39m.\u001b[39mupdate(kwds_defaults)\n\u001b[1;32m--> 950\u001b[0m \u001b[39mreturn\u001b[39;00m _read(filepath_or_buffer, kwds)\n",
      "File \u001b[1;32mc:\\ProgramData\\anaconda3\\lib\\site-packages\\pandas\\io\\parsers\\readers.py:605\u001b[0m, in \u001b[0;36m_read\u001b[1;34m(filepath_or_buffer, kwds)\u001b[0m\n\u001b[0;32m    602\u001b[0m _validate_names(kwds\u001b[39m.\u001b[39mget(\u001b[39m\"\u001b[39m\u001b[39mnames\u001b[39m\u001b[39m\"\u001b[39m, \u001b[39mNone\u001b[39;00m))\n\u001b[0;32m    604\u001b[0m \u001b[39m# Create the parser.\u001b[39;00m\n\u001b[1;32m--> 605\u001b[0m parser \u001b[39m=\u001b[39m TextFileReader(filepath_or_buffer, \u001b[39m*\u001b[39m\u001b[39m*\u001b[39mkwds)\n\u001b[0;32m    607\u001b[0m \u001b[39mif\u001b[39;00m chunksize \u001b[39mor\u001b[39;00m iterator:\n\u001b[0;32m    608\u001b[0m     \u001b[39mreturn\u001b[39;00m parser\n",
      "File \u001b[1;32mc:\\ProgramData\\anaconda3\\lib\\site-packages\\pandas\\io\\parsers\\readers.py:1442\u001b[0m, in \u001b[0;36mTextFileReader.__init__\u001b[1;34m(self, f, engine, **kwds)\u001b[0m\n\u001b[0;32m   1439\u001b[0m     \u001b[39mself\u001b[39m\u001b[39m.\u001b[39moptions[\u001b[39m\"\u001b[39m\u001b[39mhas_index_names\u001b[39m\u001b[39m\"\u001b[39m] \u001b[39m=\u001b[39m kwds[\u001b[39m\"\u001b[39m\u001b[39mhas_index_names\u001b[39m\u001b[39m\"\u001b[39m]\n\u001b[0;32m   1441\u001b[0m \u001b[39mself\u001b[39m\u001b[39m.\u001b[39mhandles: IOHandles \u001b[39m|\u001b[39m \u001b[39mNone\u001b[39;00m \u001b[39m=\u001b[39m \u001b[39mNone\u001b[39;00m\n\u001b[1;32m-> 1442\u001b[0m \u001b[39mself\u001b[39m\u001b[39m.\u001b[39m_engine \u001b[39m=\u001b[39m \u001b[39mself\u001b[39;49m\u001b[39m.\u001b[39;49m_make_engine(f, \u001b[39mself\u001b[39;49m\u001b[39m.\u001b[39;49mengine)\n",
      "File \u001b[1;32mc:\\ProgramData\\anaconda3\\lib\\site-packages\\pandas\\io\\parsers\\readers.py:1735\u001b[0m, in \u001b[0;36mTextFileReader._make_engine\u001b[1;34m(self, f, engine)\u001b[0m\n\u001b[0;32m   1733\u001b[0m     \u001b[39mif\u001b[39;00m \u001b[39m\"\u001b[39m\u001b[39mb\u001b[39m\u001b[39m\"\u001b[39m \u001b[39mnot\u001b[39;00m \u001b[39min\u001b[39;00m mode:\n\u001b[0;32m   1734\u001b[0m         mode \u001b[39m+\u001b[39m\u001b[39m=\u001b[39m \u001b[39m\"\u001b[39m\u001b[39mb\u001b[39m\u001b[39m\"\u001b[39m\n\u001b[1;32m-> 1735\u001b[0m \u001b[39mself\u001b[39m\u001b[39m.\u001b[39mhandles \u001b[39m=\u001b[39m get_handle(\n\u001b[0;32m   1736\u001b[0m     f,\n\u001b[0;32m   1737\u001b[0m     mode,\n\u001b[0;32m   1738\u001b[0m     encoding\u001b[39m=\u001b[39;49m\u001b[39mself\u001b[39;49m\u001b[39m.\u001b[39;49moptions\u001b[39m.\u001b[39;49mget(\u001b[39m\"\u001b[39;49m\u001b[39mencoding\u001b[39;49m\u001b[39m\"\u001b[39;49m, \u001b[39mNone\u001b[39;49;00m),\n\u001b[0;32m   1739\u001b[0m     compression\u001b[39m=\u001b[39;49m\u001b[39mself\u001b[39;49m\u001b[39m.\u001b[39;49moptions\u001b[39m.\u001b[39;49mget(\u001b[39m\"\u001b[39;49m\u001b[39mcompression\u001b[39;49m\u001b[39m\"\u001b[39;49m, \u001b[39mNone\u001b[39;49;00m),\n\u001b[0;32m   1740\u001b[0m     memory_map\u001b[39m=\u001b[39;49m\u001b[39mself\u001b[39;49m\u001b[39m.\u001b[39;49moptions\u001b[39m.\u001b[39;49mget(\u001b[39m\"\u001b[39;49m\u001b[39mmemory_map\u001b[39;49m\u001b[39m\"\u001b[39;49m, \u001b[39mFalse\u001b[39;49;00m),\n\u001b[0;32m   1741\u001b[0m     is_text\u001b[39m=\u001b[39;49mis_text,\n\u001b[0;32m   1742\u001b[0m     errors\u001b[39m=\u001b[39;49m\u001b[39mself\u001b[39;49m\u001b[39m.\u001b[39;49moptions\u001b[39m.\u001b[39;49mget(\u001b[39m\"\u001b[39;49m\u001b[39mencoding_errors\u001b[39;49m\u001b[39m\"\u001b[39;49m, \u001b[39m\"\u001b[39;49m\u001b[39mstrict\u001b[39;49m\u001b[39m\"\u001b[39;49m),\n\u001b[0;32m   1743\u001b[0m     storage_options\u001b[39m=\u001b[39;49m\u001b[39mself\u001b[39;49m\u001b[39m.\u001b[39;49moptions\u001b[39m.\u001b[39;49mget(\u001b[39m\"\u001b[39;49m\u001b[39mstorage_options\u001b[39;49m\u001b[39m\"\u001b[39;49m, \u001b[39mNone\u001b[39;49;00m),\n\u001b[0;32m   1744\u001b[0m )\n\u001b[0;32m   1745\u001b[0m \u001b[39massert\u001b[39;00m \u001b[39mself\u001b[39m\u001b[39m.\u001b[39mhandles \u001b[39mis\u001b[39;00m \u001b[39mnot\u001b[39;00m \u001b[39mNone\u001b[39;00m\n\u001b[0;32m   1746\u001b[0m f \u001b[39m=\u001b[39m \u001b[39mself\u001b[39m\u001b[39m.\u001b[39mhandles\u001b[39m.\u001b[39mhandle\n",
      "File \u001b[1;32mc:\\ProgramData\\anaconda3\\lib\\site-packages\\pandas\\io\\common.py:856\u001b[0m, in \u001b[0;36mget_handle\u001b[1;34m(path_or_buf, mode, encoding, compression, memory_map, is_text, errors, storage_options)\u001b[0m\n\u001b[0;32m    851\u001b[0m \u001b[39melif\u001b[39;00m \u001b[39misinstance\u001b[39m(handle, \u001b[39mstr\u001b[39m):\n\u001b[0;32m    852\u001b[0m     \u001b[39m# Check whether the filename is to be opened in binary mode.\u001b[39;00m\n\u001b[0;32m    853\u001b[0m     \u001b[39m# Binary mode does not support 'encoding' and 'newline'.\u001b[39;00m\n\u001b[0;32m    854\u001b[0m     \u001b[39mif\u001b[39;00m ioargs\u001b[39m.\u001b[39mencoding \u001b[39mand\u001b[39;00m \u001b[39m\"\u001b[39m\u001b[39mb\u001b[39m\u001b[39m\"\u001b[39m \u001b[39mnot\u001b[39;00m \u001b[39min\u001b[39;00m ioargs\u001b[39m.\u001b[39mmode:\n\u001b[0;32m    855\u001b[0m         \u001b[39m# Encoding\u001b[39;00m\n\u001b[1;32m--> 856\u001b[0m         handle \u001b[39m=\u001b[39m \u001b[39mopen\u001b[39;49m(\n\u001b[0;32m    857\u001b[0m             handle,\n\u001b[0;32m    858\u001b[0m             ioargs\u001b[39m.\u001b[39;49mmode,\n\u001b[0;32m    859\u001b[0m             encoding\u001b[39m=\u001b[39;49mioargs\u001b[39m.\u001b[39;49mencoding,\n\u001b[0;32m    860\u001b[0m             errors\u001b[39m=\u001b[39;49merrors,\n\u001b[0;32m    861\u001b[0m             newline\u001b[39m=\u001b[39;49m\u001b[39m\"\u001b[39;49m\u001b[39m\"\u001b[39;49m,\n\u001b[0;32m    862\u001b[0m         )\n\u001b[0;32m    863\u001b[0m     \u001b[39melse\u001b[39;00m:\n\u001b[0;32m    864\u001b[0m         \u001b[39m# Binary mode\u001b[39;00m\n\u001b[0;32m    865\u001b[0m         handle \u001b[39m=\u001b[39m \u001b[39mopen\u001b[39m(handle, ioargs\u001b[39m.\u001b[39mmode)\n",
      "\u001b[1;31mFileNotFoundError\u001b[0m: [Errno 2] No such file or directory: './Circular maneuver/circular_input.csv'"
     ]
    }
   ],
   "source": [
    "circular_data = pd.read_csv('./Circular maneuver/circular_input.csv')\n",
    "circular_data.head()"
   ]
  },
  {
   "cell_type": "code",
   "execution_count": null,
   "metadata": {},
   "outputs": [],
   "source": [
    "Time = circular_data['samplingTime'].to_numpy()\n",
    "\n",
    "deltaSteer = circular_data['Drv_DeltaSteer'].to_numpy()\n",
    "\n",
    "Vx = circular_data['Veh_Vx'].to_numpy()\n",
    "\n",
    "n = math.floor(Ts/(Time[1]-Time[0]))\n",
    "\n",
    "time_circular = [Time[i] for i in range(len(Time)) if i%n==0]\n",
    "steeringAngle_circular = [deltaSteer[i] for i in range(len(deltaSteer)) if i%n==0]\n",
    "velocity_circular = [Vx[i] for i in range(len(Vx)) if i%n==0]"
   ]
  },
  {
   "cell_type": "code",
   "execution_count": null,
   "metadata": {},
   "outputs": [],
   "source": [
    "u_circular = [np.transpose(np.array([[deltaSteer[0]*math.pi/180, 0]]))]\n",
    "x_circular = [np.dot(np.linalg.inv(-K), u[0])]\n",
    "x_cap_circular = [np.dot(np.linalg.inv(-K), u[0])]\n",
    "A, B, C, D = calculate_parameters(max(Vx))\n",
    "y_circular = [np.dot(C,x[0])]\n",
    "y_cap_circular = [np.dot(C,x_cap[0])]\n",
    "\n",
    "for i in range(1, len(velocity_circular)):\n",
    "  A, B, C, D = calculate_parameters(velocity_circular[i-1])\n",
    "\n",
    "  out = signal.StateSpace(A, B, C, D)\n",
    "  out = out.to_discrete(Ts)\n",
    "\n",
    "  r = y_circular[i-1] - y_cap_circular[i-1]\n",
    "\n",
    "  x_circular.append(np.array(np.dot(out.A, x_circular[i-1])+np.dot(out.B, u_circular[i-1])))\n",
    "  x_cap_circular.append(np.array(np.dot(out.A, x_circular[i-1])+np.dot(out.B, u_circular[i-1]))+np.dot(L,r))\n",
    "\n",
    "  y_circular.append(np.dot(out.C, x_circular[i-1])+np.dot(out.D, u_circular[i-1]))\n",
    "  y_cap_circular.append(np.dot(out.C, x_cap_circular[i-1])+np.dot(out.D, u_circular[i-1]))\n",
    "\n",
    "  utemp = np.dot(-K, x_circular[i])\n",
    "  utemp[0][0] += steeringAngle_circular[i]*(math.pi/180)*steering_ratio\n",
    "  u_circular.append(utemp)"
   ]
  },
  {
   "cell_type": "code",
   "execution_count": null,
   "metadata": {},
   "outputs": [],
   "source": [
    "Mz_circular = []\n",
    "delta_circular = []\n",
    "for i in range(len(u_circular)):\n",
    "    Mz_circular.append(u_circular[i][1][0])\n",
    "    delta_circular.append(u_circular[i][0][0])\n",
    "print(len(Mz_circular), len(delta_circular))\n",
    "print(Mz_circular)\n",
    "print(delta_circular)"
   ]
  },
  {
   "cell_type": "code",
   "execution_count": null,
   "metadata": {},
   "outputs": [],
   "source": [
    "plt.plot(time_circular, Mz_circular)\n",
    "plt.title(\"yaw moment (Mz)\")\n",
    "plt.show()\n",
    "plt.plot(time_circular, Mz_circular)\n",
    "plt.title(\"steering angle (delta)\")"
   ]
  },
  {
   "cell_type": "code",
   "execution_count": null,
   "metadata": {},
   "outputs": [],
   "source": [
    "inputs_circular = [[], []]\n",
    "\n",
    "for i in range(len(u_circular)):\n",
    "    inputs_circular[0].append(u_circular[i][0][0])\n",
    "    inputs_circular[1].append(u_circular[i][1][0])\n",
    "\n",
    "inputs_circular = np.array(inputs_circular)"
   ]
  },
  {
   "cell_type": "code",
   "execution_count": null,
   "metadata": {},
   "outputs": [],
   "source": [
    "'''\n",
    "0 -> r\n",
    "1 -> ay\n",
    "'''\n",
    "r1_circular = []\n",
    "ay_circular = []\n",
    "\n",
    "for i in range(len(y_circular)):\n",
    "    r1_circular.append(y_circular[i][0][0])\n",
    "    ay_circular.append(y_circular[i][1][0])\n",
    "\n",
    "print(len(r1_circular), len(ay_circular))\n",
    "print(r1_circular)\n",
    "print(ay_circular)"
   ]
  },
  {
   "cell_type": "code",
   "execution_count": null,
   "metadata": {},
   "outputs": [],
   "source": [
    "plt.plot(time, r1_circular)\n",
    "plt.title(\"yaw rate (r1)\")\n",
    "plt.show()\n",
    "plt.plot(time, ay_circular)\n",
    "plt.title(\"inertial acceleration (ay)\")"
   ]
  },
  {
   "cell_type": "code",
   "execution_count": null,
   "metadata": {},
   "outputs": [],
   "source": [
    "'''\n",
    "0 -> r1\n",
    "1 -> ay\n",
    "'''\n",
    "r1_cap = []\n",
    "ay_cap = []\n",
    "\n",
    "for i in range(len(y_cap)):\n",
    "    r1_cap.append(y_cap[i][1][0])\n",
    "    ay_cap.append(y_cap[i][0][0])\n",
    "\n",
    "print(len(r1_cap), len(ay_cap))\n",
    "print(r1_cap)\n",
    "print(ay_cap)"
   ]
  },
  {
   "cell_type": "code",
   "execution_count": null,
   "metadata": {},
   "outputs": [],
   "source": [
    "plt.plot(time, r1)\n",
    "plt.title(\"estimated yaw rate (r1)\")\n",
    "plt.show()\n",
    "plt.plot(time, ay)\n",
    "plt.title(\"estimated inertial acceleration (ay)\")"
   ]
  },
  {
   "cell_type": "code",
   "execution_count": null,
   "metadata": {},
   "outputs": [],
   "source": [
    "outputs_circular = [[], []]\n",
    "\n",
    "for i in range(len(y_circular)):\n",
    "    outputs_circular[0].append(y_circular[i][0][0])\n",
    "    outputs_circular[1].append(y_circular[i][1][0])\n",
    "\n",
    "outputs_circular = np.array(outputs_circular)"
   ]
  },
  {
   "cell_type": "code",
   "execution_count": null,
   "metadata": {},
   "outputs": [],
   "source": [
    "x_id_circular, y_id_circular = fsetSIM.SS_lsim_process_form(sysId.A, sysId.B, sysId.C, sysId.D, inputs_circular, sysId.x0)"
   ]
  },
  {
   "cell_type": "code",
   "execution_count": null,
   "metadata": {},
   "outputs": [],
   "source": [
    "plt.figure(figsize=(17, 6))\n",
    "plt.plot(time, y_id_circular[0],label='y_id')\n",
    "plt.plot(time, outputs_circular[0], label='output')\n",
    "plt.legend()\n",
    "plt.xlabel('Time')\n",
    "plt.ylabel('output')\n",
    "plt.title('yaw rate r')"
   ]
  },
  {
   "cell_type": "code",
   "execution_count": null,
   "metadata": {},
   "outputs": [],
   "source": [
    "plt.figure(figsize=(17, 6))\n",
    "plt.plot(time, y_id_circular[1], label='y_id')\n",
    "plt.plot(time, outputs_circular[1], label='output')\n",
    "plt.legend()\n",
    "plt.xlabel('Time')\n",
    "plt.ylabel('output')\n",
    "plt.title('inertial acceleration ay')"
   ]
  },
  {
   "cell_type": "code",
   "execution_count": null,
   "metadata": {},
   "outputs": [],
   "source": [
    "print(r2_score(outputs_circular[0], y_id_circular[0])) # r2\n",
    "print(math.sqrt(mean_squared_error(outputs_circular[0], y_id_circular[0]))) #rmse"
   ]
  },
  {
   "cell_type": "code",
   "execution_count": null,
   "metadata": {},
   "outputs": [],
   "source": [
    "print(r2_score(outputs_circular[1], y_id_circular[1])) # r2\n",
    "print(math.sqrt(mean_squared_error(outputs_circular[1], y_id_circular[1]))) # rmse"
   ]
  },
  {
   "cell_type": "code",
   "execution_count": null,
   "metadata": {},
   "outputs": [],
   "source": [
    "from sippy import functionset as fset\n",
    "\n",
    "size = len(inputs[0])\n",
    "noise_circular = fset.white_noise_var(size, [0.001, 0.01])\n",
    "\n",
    "netOutput_circular = outputs_circular + noise_circular"
   ]
  },
  {
   "cell_type": "code",
   "execution_count": null,
   "metadata": {},
   "outputs": [],
   "source": [
    "plt.figure(figsize=(17, 6))\n",
    "plt.plot(time, y_id_circular[0],label='y_id')\n",
    "plt.plot(time, netOutput_circular[0], label='output')\n",
    "plt.legend()\n",
    "plt.xlabel('Time')\n",
    "plt.ylabel('output')\n",
    "plt.title('yaw rate r')"
   ]
  },
  {
   "cell_type": "code",
   "execution_count": null,
   "metadata": {},
   "outputs": [],
   "source": [
    "print(r2_score(netOutput_circular[0], y_id_circular[0])) # r2\n",
    "print(math.sqrt(mean_squared_error(netOutput_circular[0], y_id_circular[0]))) #rmse"
   ]
  },
  {
   "cell_type": "code",
   "execution_count": null,
   "metadata": {},
   "outputs": [],
   "source": [
    "plt.figure(figsize=(17, 6))\n",
    "plt.plot(time, y_id_circular[1], label='y_id')\n",
    "plt.plot(time, netOutput_circular[1], label='output')\n",
    "plt.legend()\n",
    "plt.xlabel('Time')\n",
    "plt.ylabel('output')\n",
    "plt.title('inertial acceleration ay')"
   ]
  },
  {
   "cell_type": "code",
   "execution_count": null,
   "metadata": {},
   "outputs": [],
   "source": [
    "print(r2_score(netOutput_circular[1], y_id_circular[1])) # r2\n",
    "print(math.sqrt(mean_squared_error(netOutput_circular[1], y_id_circular[1]))) # rmse"
   ]
  },
  {
   "attachments": {},
   "cell_type": "markdown",
   "metadata": {},
   "source": [
    "---\n",
    "# VDA maneuver\n",
    "---"
   ]
  },
  {
   "cell_type": "code",
   "execution_count": null,
   "metadata": {},
   "outputs": [],
   "source": [
    "vda_data = pd.read_csv('./VDA/VDA_input.csv')\n",
    "vda_data.head()\n",
    "# hf_data.shape"
   ]
  },
  {
   "cell_type": "code",
   "execution_count": null,
   "metadata": {},
   "outputs": [],
   "source": [
    "Time = vda_data['samplingTime'].to_numpy()\n",
    "\n",
    "deltaSteer = vda_data['Drv_DeltaSteer'].to_numpy()\n",
    "\n",
    "Vx = vda_data['Veh_Vx'].to_numpy()\n",
    "\n",
    "n = math.floor(Ts/(Time[1]-Time[0]))\n",
    "\n",
    "time_vda = [Time[i] for i in range(len(Time)) if i%n==0]\n",
    "steeringAngle_vda = [deltaSteer[i] for i in range(len(deltaSteer)) if i%n==0]\n",
    "velocity_vda = [Vx[i] for i in range(len(Vx)) if i%n==0]"
   ]
  },
  {
   "cell_type": "code",
   "execution_count": null,
   "metadata": {},
   "outputs": [],
   "source": [
    "u_vda = [np.transpose(np.array([[deltaSteer[0]*math.pi/180, 0]]))]\n",
    "x_vda = [np.dot(np.linalg.inv(-K), u[0])]\n",
    "x_cap_vda = [np.dot(np.linalg.inv(-K), u[0])]\n",
    "A, B, C, D = calculate_parameters(max(Vx))\n",
    "y_vda = [np.dot(C,x[0])]\n",
    "y_cap_vda = [np.dot(C,x_cap[0])]\n",
    "\n",
    "for i in range(1, len(velocity_vda)):\n",
    "  A, B, C, D = calculate_parameters(velocity_vda[i-1])\n",
    "\n",
    "  out = signal.StateSpace(A, B, C, D)\n",
    "  out = out.to_discrete(Ts)\n",
    "\n",
    "  r = y_vda[i-1] - y_cap_vda[i-1]\n",
    "\n",
    "  x_vda.append(np.array(np.dot(out.A, x_vda[i-1])+np.dot(out.B, u_vda[i-1])))\n",
    "  x_cap_vda.append(np.array(np.dot(out.A, x_vda[i-1])+np.dot(out.B, u_vda[i-1]))+np.dot(L,r))\n",
    "\n",
    "  y_vda.append(np.dot(out.C, x_vda[i-1])+np.dot(out.D, u_vda[i-1]))\n",
    "  y_cap_vda.append(np.dot(out.C, x_cap_vda[i-1])+np.dot(out.D, u_vda[i-1]))\n",
    "\n",
    "  utemp = np.dot(-K, x_vda[i])\n",
    "  utemp[0][0] += steeringAngle_vda[i]*(math.pi/180)*steering_ratio\n",
    "  u_vda.append(utemp)"
   ]
  },
  {
   "cell_type": "code",
   "execution_count": null,
   "metadata": {},
   "outputs": [],
   "source": [
    "Mz_vda = []\n",
    "delta_vda = []\n",
    "for i in range(len(u_vda)):\n",
    "    Mz_vda.append(u_vda[i][1][0])\n",
    "    delta_vda.append(u_vda[i][0][0])\n",
    "print(len(Mz_vda), len(delta_vda))\n",
    "print(Mz_vda)\n",
    "print(delta_vda)"
   ]
  },
  {
   "cell_type": "code",
   "execution_count": null,
   "metadata": {},
   "outputs": [],
   "source": [
    "plt.plot(time_vda, Mz_vda)\n",
    "plt.title(\"yaw moment (Mz)\")\n",
    "plt.show()\n",
    "plt.plot(time_vda, delta_vda)\n",
    "plt.title(\"steering angle (delta)\")"
   ]
  },
  {
   "cell_type": "code",
   "execution_count": null,
   "metadata": {},
   "outputs": [],
   "source": [
    "inputs_vda = [[], []]\n",
    "\n",
    "for i in range(len(u_vda)):\n",
    "    inputs_vda[0].append(u_vda[i][0][0])\n",
    "    inputs_vda[1].append(u_vda[i][1][0])\n",
    "\n",
    "inputs_vda = np.array(inputs_vda)"
   ]
  },
  {
   "cell_type": "code",
   "execution_count": null,
   "metadata": {},
   "outputs": [],
   "source": [
    "'''\n",
    "0 -> r\n",
    "1 -> ay\n",
    "'''\n",
    "r1_vda = []\n",
    "ay_vda = []\n",
    "\n",
    "for i in range(len(y_vda)):\n",
    "    r1_vda.append(y_vda[i][0][0])\n",
    "    ay_vda.append(y_vda[i][1][0])\n",
    "\n",
    "print(len(r1_vda), len(ay_vda))\n",
    "print(r1_vda)\n",
    "print(ay_vda)"
   ]
  },
  {
   "cell_type": "code",
   "execution_count": null,
   "metadata": {},
   "outputs": [],
   "source": [
    "plt.plot(time_vda, r1_vda)\n",
    "plt.title(\"yaw rate (r1)\")\n",
    "plt.show()\n",
    "plt.plot(time_vda, ay_vda)\n",
    "plt.title(\"inertial acceleration (ay)\")"
   ]
  },
  {
   "cell_type": "code",
   "execution_count": null,
   "metadata": {},
   "outputs": [],
   "source": [
    "'''\n",
    "0 -> r1\n",
    "1 -> ay\n",
    "'''\n",
    "r1_cap = []\n",
    "ay_cap = []\n",
    "\n",
    "for i in range(len(y_cap)):\n",
    "    r1_cap.append(y_cap[i][1][0])\n",
    "    ay_cap.append(y_cap[i][0][0])\n",
    "\n",
    "print(len(r1_cap), len(ay_cap))\n",
    "print(r1_cap)\n",
    "print(ay_cap)"
   ]
  },
  {
   "cell_type": "code",
   "execution_count": null,
   "metadata": {},
   "outputs": [],
   "source": [
    "plt.plot(time, r1)\n",
    "plt.title(\"estimated yaw rate (r1)\")\n",
    "plt.show()\n",
    "plt.plot(time, ay)\n",
    "plt.title(\"estimated inertial acceleration (ay)\")"
   ]
  },
  {
   "cell_type": "code",
   "execution_count": null,
   "metadata": {},
   "outputs": [],
   "source": [
    "outputs_vda = [[], []]\n",
    "\n",
    "for i in range(len(y_vda)):\n",
    "    outputs_vda[0].append(y_vda[i][0][0])\n",
    "    outputs_vda[1].append(y_vda[i][1][0])\n",
    "\n",
    "outputs_vda = np.array(outputs_vda)"
   ]
  },
  {
   "cell_type": "code",
   "execution_count": null,
   "metadata": {},
   "outputs": [],
   "source": [
    "x_id_vda, y_id_vda = fsetSIM.SS_lsim_process_form(sysId.A, sysId.B, sysId.C, sysId.D, inputs_vda, sysId.x0)"
   ]
  },
  {
   "cell_type": "code",
   "execution_count": null,
   "metadata": {},
   "outputs": [],
   "source": [
    "plt.figure(figsize=(17, 6))\n",
    "plt.plot(time_vda, y_id_vda[0],label='y_id')\n",
    "plt.plot(time_vda, outputs_vda[0], label='output')\n",
    "plt.legend()\n",
    "plt.xlabel('Time')\n",
    "plt.ylabel('output')\n",
    "plt.title('yaw rate r')"
   ]
  },
  {
   "cell_type": "code",
   "execution_count": null,
   "metadata": {},
   "outputs": [],
   "source": [
    "plt.figure(figsize=(17, 6))\n",
    "plt.plot(time_vda, y_id_vda[1], label='y_id')\n",
    "plt.plot(time_vda, outputs_vda[1], label='output')\n",
    "plt.legend()\n",
    "plt.xlabel('Time')\n",
    "plt.ylabel('output')\n",
    "plt.title('inertial acceleration ay')"
   ]
  },
  {
   "cell_type": "code",
   "execution_count": null,
   "metadata": {},
   "outputs": [],
   "source": [
    "print(r2_score(outputs_vda[0], y_id_vda[0])) # r2\n",
    "print(math.sqrt(mean_squared_error(outputs_vda[0], y_id_vda[0]))) #rmse"
   ]
  },
  {
   "cell_type": "code",
   "execution_count": null,
   "metadata": {},
   "outputs": [],
   "source": [
    "print(r2_score(outputs_vda[1], y_id_vda[1])) # r2\n",
    "print(math.sqrt(mean_squared_error(outputs_vda[1], y_id_vda[1]))) # rmse"
   ]
  },
  {
   "cell_type": "code",
   "execution_count": null,
   "metadata": {},
   "outputs": [],
   "source": [
    "from sippy import functionset as fset\n",
    "\n",
    "size = len(inputs_vda[0])\n",
    "noise_vda = fset.white_noise_var(size, [0.001, 0.01])\n",
    "\n",
    "netOutput_vda = outputs_vda + noise_vda"
   ]
  },
  {
   "cell_type": "code",
   "execution_count": null,
   "metadata": {},
   "outputs": [],
   "source": [
    "plt.figure(figsize=(17, 6))\n",
    "plt.plot(time_vda, y_id_vda[0],label='y_id')\n",
    "plt.plot(time_vda, netOutput_vda[0], label='output')\n",
    "plt.legend()\n",
    "plt.xlabel('Time')\n",
    "plt.ylabel('output')\n",
    "plt.title('yaw rate r')"
   ]
  },
  {
   "cell_type": "code",
   "execution_count": null,
   "metadata": {},
   "outputs": [],
   "source": [
    "print(r2_score(netOutput_vda[0], y_id_vda[0])) # r2\n",
    "print(math.sqrt(mean_squared_error(netOutput_vda[0], y_id_vda[0]))) #rmse"
   ]
  },
  {
   "cell_type": "code",
   "execution_count": null,
   "metadata": {},
   "outputs": [],
   "source": [
    "plt.figure(figsize=(17, 6))\n",
    "plt.plot(time_vda, y_id_vda[1], label='y_id')\n",
    "plt.plot(time_vda, netOutput_vda[1], label='output')\n",
    "plt.legend()\n",
    "plt.xlabel('Time')\n",
    "plt.ylabel('output')\n",
    "plt.title('inertial acceleration ay')"
   ]
  },
  {
   "cell_type": "code",
   "execution_count": null,
   "metadata": {},
   "outputs": [],
   "source": [
    "print(r2_score(netOutput_vda[1], y_id_vda[1])) # r2\n",
    "print(math.sqrt(mean_squared_error(netOutput_vda[1], y_id_vda[1]))) # rmse"
   ]
  },
  {
   "attachments": {},
   "cell_type": "markdown",
   "metadata": {},
   "source": [
    "---\n",
    "# High Frequency\n",
    "---"
   ]
  },
  {
   "cell_type": "code",
   "execution_count": null,
   "metadata": {},
   "outputs": [],
   "source": [
    "hf_data = pd.read_csv('./High frq/HighFrq_input.csv')\n",
    "hf_data.head()"
   ]
  },
  {
   "cell_type": "code",
   "execution_count": null,
   "metadata": {},
   "outputs": [],
   "source": [
    "# hf_data = hf_data[0:2000]\n",
    "hf_data.shape"
   ]
  },
  {
   "cell_type": "code",
   "execution_count": null,
   "metadata": {},
   "outputs": [],
   "source": [
    "Time = hf_data['Time'].to_numpy()\n",
    "\n",
    "deltaSteer = hf_data['Drv_DeltaSteer'].to_numpy()\n",
    "\n",
    "Vx = hf_data['Veh_Vx'].to_numpy()\n",
    "\n",
    "n = math.floor(Ts/(Time[1]-Time[0]))\n",
    "\n",
    "time_hf = [Time[i] for i in range(len(Time)) if i%n==0]\n",
    "steeringAngle_hf = [deltaSteer[i] for i in range(len(deltaSteer)) if i%n==0]\n",
    "velocity_hf = [Vx[i] for i in range(len(Vx)) if i%n==0]"
   ]
  },
  {
   "cell_type": "code",
   "execution_count": null,
   "metadata": {},
   "outputs": [],
   "source": [
    "u_hf = [np.transpose(np.array([[deltaSteer[0]*math.pi/180, 0]]))]\n",
    "x_hf = [np.dot(np.linalg.inv(-K), u_hf[0])]\n",
    "x_cap_hf = [np.dot(np.linalg.inv(-K), u_hf[0])]\n",
    "A, B, C, D = calculate_parameters(max(Vx))\n",
    "y_hf = [np.dot(C,x_hf[0])]\n",
    "y_cap_hf = [np.dot(C,x_cap_hf[0])]\n",
    "\n",
    "for i in range(1, len(velocity_hf)):\n",
    "  A, B, C, D = calculate_parameters(velocity_hf[i-1])\n",
    "\n",
    "  out = signal.StateSpace(A, B, C, D)\n",
    "  out = out.to_discrete(Ts)\n",
    "\n",
    "  r = y_hf[i-1] - y_cap_hf[i-1]\n",
    "\n",
    "  x_hf.append(np.array(np.dot(out.A, x_hf[i-1])+np.dot(out.B, u_hf[i-1])))\n",
    "  x_cap_hf.append(np.array(np.dot(out.A, x_hf[i-1])+np.dot(out.B, u_hf[i-1]))+np.dot(L,r))\n",
    "\n",
    "  y_hf.append(np.dot(out.C, x_hf[i-1])+np.dot(out.D, u_hf[i-1]))\n",
    "  y_cap_hf.append(np.dot(out.C, x_cap_hf[i-1])+np.dot(out.D, u_hf[i-1]))\n",
    "\n",
    "  utemp = np.dot(-K, x_hf[i])\n",
    "  utemp[0][0] += steeringAngle_hf[i]*(math.pi/180)*steering_ratio\n",
    "  u_hf.append(utemp)"
   ]
  },
  {
   "cell_type": "code",
   "execution_count": null,
   "metadata": {},
   "outputs": [],
   "source": [
    "Mz_hf = []\n",
    "delta_hf = []\n",
    "for i in range(len(u_hf)):\n",
    "    Mz_hf.append(u_hf[i][1][0])\n",
    "    delta_hf.append(u_hf[i][0][0])\n",
    "print(len(Mz_hf), len(delta_hf))\n",
    "print(Mz_hf)\n",
    "print(delta_hf)"
   ]
  },
  {
   "cell_type": "code",
   "execution_count": null,
   "metadata": {},
   "outputs": [],
   "source": [
    "plt.plot(time_hf, Mz_hf)\n",
    "plt.title(\"yaw moment (Mz)\")\n",
    "plt.show()\n",
    "plt.plot(time_hf, delta_hf)\n",
    "plt.title(\"steering angle (delta)\")"
   ]
  },
  {
   "cell_type": "code",
   "execution_count": null,
   "metadata": {},
   "outputs": [],
   "source": [
    "inputs_hf = [[], []]\n",
    "\n",
    "for i in range(len(u_hf)):\n",
    "    inputs_hf[0].append(u_hf[i][0][0])\n",
    "    inputs_hf[1].append(u_hf[i][1][0])\n",
    "\n",
    "inputs_hf = np.array(inputs_hf)"
   ]
  },
  {
   "cell_type": "code",
   "execution_count": null,
   "metadata": {},
   "outputs": [],
   "source": [
    "'''\n",
    "0 -> r\n",
    "1 -> ay\n",
    "'''\n",
    "r1_hf = []\n",
    "ay_hf = []\n",
    "\n",
    "for i in range(len(y_hf)):\n",
    "    r1_hf.append(y_hf[i][0][0])\n",
    "    ay_hf.append(y_hf[i][1][0])\n",
    "\n",
    "print(len(r1_hf), len(ay_hf))\n",
    "print(r1_hf)\n",
    "print(ay_hf)"
   ]
  },
  {
   "cell_type": "code",
   "execution_count": null,
   "metadata": {},
   "outputs": [],
   "source": [
    "plt.plot(time_hf, r1_hf)\n",
    "plt.title(\"yaw rate (r1)\")\n",
    "plt.show()\n",
    "plt.plot(time_hf, ay_hf)\n",
    "plt.title(\"inertial acceleration (ay)\")"
   ]
  },
  {
   "cell_type": "code",
   "execution_count": null,
   "metadata": {},
   "outputs": [],
   "source": [
    "'''\n",
    "0 -> r1\n",
    "1 -> ay\n",
    "'''\n",
    "r1_cap_hf = []\n",
    "ay_cap_hf = []\n",
    "\n",
    "for i in range(len(y_cap_hf)):\n",
    "    r1_cap_hf.append(y_cap_hf[i][1][0])\n",
    "    ay_cap_hf.append(y_cap_hf[i][0][0])\n",
    "\n",
    "print(len(r1_cap_hf), len(ay_cap_hf))\n",
    "print(r1_cap_hf)\n",
    "print(ay_cap_hf)"
   ]
  },
  {
   "cell_type": "code",
   "execution_count": null,
   "metadata": {},
   "outputs": [],
   "source": [
    "plt.plot(time_hf, r1_cap_hf)\n",
    "plt.title(\"estimated yaw rate (r1)\")\n",
    "plt.show()\n",
    "plt.plot(time_hf, ay_cap_hf)\n",
    "plt.title(\"estimated inertial acceleration (ay)\")"
   ]
  },
  {
   "cell_type": "code",
   "execution_count": null,
   "metadata": {},
   "outputs": [],
   "source": [
    "outputs_hf = [[], []]\n",
    "\n",
    "for i in range(len(y_hf)):\n",
    "    outputs_hf[0].append(y_hf[i][0][0])\n",
    "    outputs_hf[1].append(y_hf[i][1][0])\n",
    "\n",
    "outputs_hf = np.array(outputs_hf)"
   ]
  },
  {
   "cell_type": "code",
   "execution_count": null,
   "metadata": {},
   "outputs": [],
   "source": [
    "x_id_hf, y_id_hf = fsetSIM.SS_lsim_process_form(sysId.A, sysId.B, sysId.C, sysId.D, inputs_hf, sysId.x0)"
   ]
  },
  {
   "cell_type": "code",
   "execution_count": null,
   "metadata": {},
   "outputs": [],
   "source": [
    "sysId.A.shape"
   ]
  },
  {
   "cell_type": "code",
   "execution_count": null,
   "metadata": {},
   "outputs": [],
   "source": [
    "plt.figure(figsize=(17, 6))\n",
    "plt.plot(time_hf, y_id_hf[0],label='y_id')\n",
    "plt.plot(time_hf, outputs_hf[0], label='output')\n",
    "plt.legend()\n",
    "plt.xlabel('Time')\n",
    "plt.ylabel('output')\n",
    "plt.title('yaw rate r')"
   ]
  },
  {
   "cell_type": "code",
   "execution_count": null,
   "metadata": {},
   "outputs": [],
   "source": [
    "plt.figure(figsize=(17, 6))\n",
    "plt.plot(time_hf, y_id_hf[1], label='y_id')\n",
    "plt.plot(time_hf, outputs_hf[1], label='output')\n",
    "plt.legend()\n",
    "plt.xlabel('Time')\n",
    "plt.ylabel('output')\n",
    "plt.title('inertial acceleration ay')"
   ]
  },
  {
   "cell_type": "code",
   "execution_count": null,
   "metadata": {},
   "outputs": [],
   "source": [
    "print(r2_score(outputs_hf[0], y_id_hf[0])) # r2\n",
    "print(math.sqrt(mean_squared_error(outputs_hf[0], y_id_hf[0]))) #rmse"
   ]
  },
  {
   "cell_type": "code",
   "execution_count": null,
   "metadata": {},
   "outputs": [],
   "source": [
    "print(r2_score(outputs_hf[1], y_id_hf[1])) # r2\n",
    "print(math.sqrt(mean_squared_error(outputs_hf[1], y_id_hf[1]))) # rmse"
   ]
  },
  {
   "cell_type": "code",
   "execution_count": null,
   "metadata": {},
   "outputs": [],
   "source": [
    "from sippy import functionset as fset\n",
    "\n",
    "size = len(inputs_hf[0])\n",
    "noise_hf = fset.white_noise_var(size, [0.001, 0.01])\n",
    "\n",
    "netOutput_hf = outputs_hf + noise_hf"
   ]
  },
  {
   "cell_type": "code",
   "execution_count": null,
   "metadata": {},
   "outputs": [],
   "source": [
    "plt.figure(figsize=(17, 6))\n",
    "plt.plot(time_hf, y_id_hf[0],label='y_id')\n",
    "plt.plot(time_hf, netOutput_hf[0], label='output')\n",
    "plt.legend()\n",
    "plt.xlabel('Time')\n",
    "plt.ylabel('output')\n",
    "plt.title('yaw rate r')"
   ]
  },
  {
   "cell_type": "code",
   "execution_count": null,
   "metadata": {},
   "outputs": [],
   "source": [
    "print(r2_score(netOutput_hf[0], y_id_hf[0])) # r2\n",
    "print(math.sqrt(mean_squared_error(netOutput_hf[0], y_id_hf[0]))) #rmse"
   ]
  },
  {
   "cell_type": "code",
   "execution_count": null,
   "metadata": {},
   "outputs": [],
   "source": [
    "plt.figure(figsize=(17, 6))\n",
    "plt.plot(time_hf, y_id_hf[1], label='y_id')\n",
    "plt.plot(time_hf, netOutput_hf[1], label='output')\n",
    "plt.legend()\n",
    "plt.xlabel('Time')\n",
    "plt.ylabel('output')\n",
    "plt.title('inertial acceleration ay')"
   ]
  },
  {
   "cell_type": "code",
   "execution_count": null,
   "metadata": {},
   "outputs": [],
   "source": [
    "print(r2_score(netOutput_hf[1], y_id_hf[1])) # r2\n",
    "print(math.sqrt(mean_squared_error(netOutput_hf[1], y_id_hf[1]))) # rmse"
   ]
  }
 ],
 "metadata": {
  "kernelspec": {
   "display_name": "Python 3 (ipykernel)",
   "language": "python",
   "name": "python3"
  },
  "language_info": {
   "codemirror_mode": {
    "name": "ipython",
    "version": 3
   },
   "file_extension": ".py",
   "mimetype": "text/x-python",
   "name": "python",
   "nbconvert_exporter": "python",
   "pygments_lexer": "ipython3",
   "version": "3.10.9"
  }
 },
 "nbformat": 4,
 "nbformat_minor": 2
}
